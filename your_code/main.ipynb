{
 "cells": [
  {
   "cell_type": "markdown",
   "metadata": {},
   "source": [
    "# Advanced Querying Mongo"
   ]
  },
  {
   "cell_type": "markdown",
   "metadata": {},
   "source": [
    "**⚠️ IMPORTANT: Limit your print to avoid infinite scrolling. Otherwise your\n",
    "code will be lost between print lines. If working with lists do:**\n",
    "\n",
    "```python\n",
    "list(collection.find(query))[:5] #or a reasonably low number\n",
    "```"
   ]
  },
  {
   "cell_type": "markdown",
   "metadata": {},
   "source": [
    "Importing libraries and setting up connection"
   ]
  },
  {
   "cell_type": "code",
   "execution_count": 1,
   "metadata": {},
   "outputs": [],
   "source": [
    "from pymongo import MongoClient\n",
    "import pandas as pd\n",
    "import time"
   ]
  },
  {
   "cell_type": "code",
   "execution_count": 8,
   "metadata": {},
   "outputs": [],
   "source": [
    "client = MongoClient(\"localhost:27017\")\n",
    "db = client[\"Ironhack\"]\n",
    "c = db.get_collection(\"companies\")"
   ]
  },
  {
   "cell_type": "markdown",
   "metadata": {},
   "source": [
    "### 1. All the companies whose name match 'Babelgum'. Retrieve only their `name` field."
   ]
  },
  {
   "cell_type": "code",
   "execution_count": 9,
   "metadata": {},
   "outputs": [
    {
     "data": {
      "text/plain": [
       "[{'name': 'Babelgum'}]"
      ]
     },
     "execution_count": 9,
     "metadata": {},
     "output_type": "execute_result"
    }
   ],
   "source": [
    "list(c.find({\"name\":\"Babelgum\"}, projection = {\"_id\":0, \"name\":1}))"
   ]
  },
  {
   "cell_type": "markdown",
   "metadata": {},
   "source": [
    "### 2. All the companies that have more than 5000 employees. Limit the search to 20 companies and sort them by **number of employees**."
   ]
  },
  {
   "cell_type": "code",
   "execution_count": 54,
   "metadata": {},
   "outputs": [
    {
     "data": {
      "text/plain": [
       "[{'name': 'Nintendo', 'number_of_employees': 5080},\n",
       " {'name': 'Hexaware Technologies', 'number_of_employees': 5200},\n",
       " {'name': 'Facebook', 'number_of_employees': 5299},\n",
       " {'name': 'OpenText', 'number_of_employees': 5300},\n",
       " {'name': 'CPM Braxis', 'number_of_employees': 5400},\n",
       " {'name': 'LSI', 'number_of_employees': 5400},\n",
       " {'name': 'Microchip Technologies', 'number_of_employees': 5500},\n",
       " {'name': 'Mediaset', 'number_of_employees': 5729},\n",
       " {'name': 'Mindray Medical International', 'number_of_employees': 5763},\n",
       " {'name': 'Dentsu', 'number_of_employees': 6000},\n",
       " {'name': 'Atmel', 'number_of_employees': 6000},\n",
       " {'name': 'Tata Communications', 'number_of_employees': 6000},\n",
       " {'name': 'Baidu', 'number_of_employees': 6000},\n",
       " {'name': 'Acxiom', 'number_of_employees': 6200},\n",
       " {'name': 'Acxiom', 'number_of_employees': 6200},\n",
       " {'name': 'SRA International', 'number_of_employees': 6400},\n",
       " {'name': \"Moody's\", 'number_of_employees': 6800},\n",
       " {'name': 'ManTech', 'number_of_employees': 7000},\n",
       " {'name': 'Adobe Systems', 'number_of_employees': 7173},\n",
       " {'name': 'Broadcom', 'number_of_employees': 7400}]"
      ]
     },
     "execution_count": 54,
     "metadata": {},
     "output_type": "execute_result"
    }
   ],
   "source": [
    "list(c.find({\"number_of_employees\":{\"$gte\": 5001}}, projection = {\"_id\":0, \"name\":1, \"number_of_employees\":1}).sort(\"number_of_employees\",1).limit(20))"
   ]
  },
  {
   "cell_type": "markdown",
   "metadata": {},
   "source": [
    "### 3. All the companies founded between 2000 and 2005, both years included. Retrieve only the `name` and `founded_year` fields."
   ]
  },
  {
   "cell_type": "code",
   "execution_count": 67,
   "metadata": {},
   "outputs": [
    {
     "data": {
      "text/plain": [
       "[{'name': 'Wetpaint', 'founded_year': 2005},\n",
       " {'name': 'Zoho', 'founded_year': 2005},\n",
       " {'name': 'Digg', 'founded_year': 2004},\n",
       " {'name': 'Facebook', 'founded_year': 2004},\n",
       " {'name': 'Omnidrive', 'founded_year': 2005}]"
      ]
     },
     "execution_count": 67,
     "metadata": {},
     "output_type": "execute_result"
    }
   ],
   "source": [
    "condition_1={\"founded_year\":{\"$gte\": 2000}}\n",
    "condition_2={\"founded_year\":{\"$lte\": 2005}}\n",
    "\n",
    "db.find({\"$and\": [] }, projection={}).sort(\"\",).limit()\n",
    "\n",
    "list(c.find({\"$and\": [condition_1, condition_2]}, projection = {\"_id\":0, \"name\":1, \"founded_year\":1}))[:5]"
   ]
  },
  {
   "cell_type": "markdown",
   "metadata": {},
   "source": [
    "### 4. All the companies that had a Valuation Amount of more than 100.000.000 and have been founded before 2010. Retrieve only the `name` and `ipo` fields."
   ]
  },
  {
   "cell_type": "code",
   "execution_count": 68,
   "metadata": {},
   "outputs": [
    {
     "data": {
      "text/plain": [
       "[{'name': 'Facebook',\n",
       "  'ipo': {'valuation_amount': 104000000000.0,\n",
       "   'valuation_currency_code': 'USD',\n",
       "   'pub_year': 2012,\n",
       "   'pub_month': 5,\n",
       "   'pub_day': 18,\n",
       "   'stock_symbol': 'NASDAQ:FB'}},\n",
       " {'name': 'Twitter',\n",
       "  'ipo': {'valuation_amount': 18100000000.0,\n",
       "   'valuation_currency_code': 'USD',\n",
       "   'pub_year': 2013,\n",
       "   'pub_month': 11,\n",
       "   'pub_day': 7,\n",
       "   'stock_symbol': 'NYSE:TWTR'}},\n",
       " {'name': 'Yelp',\n",
       "  'ipo': {'valuation_amount': 1300000000,\n",
       "   'valuation_currency_code': 'USD',\n",
       "   'pub_year': 2012,\n",
       "   'pub_month': 3,\n",
       "   'pub_day': 2,\n",
       "   'stock_symbol': 'NYSE:YELP'}},\n",
       " {'name': 'LinkedIn',\n",
       "  'ipo': {'valuation_amount': 9310000000.0,\n",
       "   'valuation_currency_code': 'USD',\n",
       "   'pub_year': 2011,\n",
       "   'pub_month': 7,\n",
       "   'pub_day': 20,\n",
       "   'stock_symbol': 'NYSE:LNKD'}},\n",
       " {'name': 'Amazon',\n",
       "  'ipo': {'valuation_amount': 100000000000.0,\n",
       "   'valuation_currency_code': 'USD',\n",
       "   'pub_year': 1997,\n",
       "   'pub_month': 5,\n",
       "   'pub_day': None,\n",
       "   'stock_symbol': 'NASDAQ:AMZN'}}]"
      ]
     },
     "execution_count": 68,
     "metadata": {},
     "output_type": "execute_result"
    }
   ],
   "source": [
    "codition_1={\"ipo.valuation_amount\":{\"$gte\":100000000}}\n",
    "condition_2={\"founded_year\":{\"$lte\": 2011}}\n",
    "list(c.find({\"$and\":[codition_1,condition_2]},projection = {\"_id\":0, \"name\":1, \"ipo\":1}))[:5]"
   ]
  },
  {
   "cell_type": "markdown",
   "metadata": {},
   "source": [
    "### 5. All the companies that have less than 1000 employees and have been founded before 2005. Order them by the number of employees and limit the search to 10 companies."
   ]
  },
  {
   "cell_type": "code",
   "execution_count": 58,
   "metadata": {},
   "outputs": [
    {
     "data": {
      "text/plain": [
       "[{'name': 'Fox Interactive Media', 'number_of_employees': 0},\n",
       " {'name': 'EQO', 'number_of_employees': 0},\n",
       " {'name': 'Bebo', 'number_of_employees': 0},\n",
       " {'name': 'Skype', 'number_of_employees': 0},\n",
       " {'name': 'Joost', 'number_of_employees': 0},\n",
       " {'name': 'Mashery', 'number_of_employees': 0},\n",
       " {'name': 'Go2Web20', 'number_of_employees': 0},\n",
       " {'name': 'Ticketmaster', 'number_of_employees': 0},\n",
       " {'name': 'CastTV', 'number_of_employees': 0},\n",
       " {'name': 'YouTube', 'number_of_employees': 0}]"
      ]
     },
     "execution_count": 58,
     "metadata": {},
     "output_type": "execute_result"
    }
   ],
   "source": [
    "condition_1={\"number_of_employees\":{\"$lte\": 999}}\n",
    "condition_2={\"founded_year\":{\"$lte\": 2006}}\n",
    "list(c.find({\"$and\":[condition_1,condition_2]}, projection = {\"_id\":0, \"name\":1,\"number_of_employees\":1}).sort(\"number_of_employees\", 1).limit(10))"
   ]
  },
  {
   "cell_type": "markdown",
   "metadata": {},
   "source": [
    "### 6. All the companies that don't include the `partners` field."
   ]
  },
  {
   "cell_type": "code",
   "execution_count": 31,
   "metadata": {},
   "outputs": [
    {
     "data": {
      "text/plain": [
       "[]"
      ]
     },
     "execution_count": 31,
     "metadata": {},
     "output_type": "execute_result"
    }
   ],
   "source": [
    "list(c.find({\"partners\":{\"$exists\": False}}, projection = {\"_id\":0, \"name\":1}))"
   ]
  },
  {
   "cell_type": "markdown",
   "metadata": {},
   "source": [
    "### 7. All the companies that have a null type of value on the `category_code` field."
   ]
  },
  {
   "cell_type": "code",
   "execution_count": 45,
   "metadata": {},
   "outputs": [
    {
     "data": {
      "text/plain": [
       "[{'name': 'Collective', 'category_code': None},\n",
       " {'name': 'Snimmer', 'category_code': None},\n",
       " {'name': 'KoolIM', 'category_code': None},\n",
       " {'name': 'Level9 Media', 'category_code': None},\n",
       " {'name': 'VidKing', 'category_code': None}]"
      ]
     },
     "execution_count": 45,
     "metadata": {},
     "output_type": "execute_result"
    }
   ],
   "source": [
    "list(c.find({\"category_code\":{\"$type\": \"null\"}}, projection = {\"_id\":0, \"name\":1, \"category_code\":1}))[:5]"
   ]
  },
  {
   "cell_type": "markdown",
   "metadata": {},
   "source": [
    "### 8. All the companies that have at least 100 employees but less than 1000. Retrieve only the `name` and `number of employees` fields."
   ]
  },
  {
   "cell_type": "code",
   "execution_count": 46,
   "metadata": {},
   "outputs": [
    {
     "data": {
      "text/plain": [
       "[{'name': 'AdventNet', 'number_of_employees': 600},\n",
       " {'name': 'AddThis', 'number_of_employees': 120},\n",
       " {'name': 'OpenX', 'number_of_employees': 305},\n",
       " {'name': 'LifeLock', 'number_of_employees': 644},\n",
       " {'name': 'Jajah', 'number_of_employees': 110}]"
      ]
     },
     "execution_count": 46,
     "metadata": {},
     "output_type": "execute_result"
    }
   ],
   "source": [
    "condition_1={\"number_of_employees\":{\"$gte\": 100}}\n",
    "condition_2={\"number_of_employees\":{\"$lte\": 999}}\n",
    "list(c.find({\"$and\":[condition_1,condition_2]}, projection = {\"_id\":0, \"name\":1, \"number_of_employees\":1}))[:5]"
   ]
  },
  {
   "cell_type": "markdown",
   "metadata": {},
   "source": [
    "### 9. Order all the companies by their IPO price in a descending order."
   ]
  },
  {
   "cell_type": "code",
   "execution_count": 47,
   "metadata": {},
   "outputs": [
    {
     "data": {
      "text/plain": [
       "[{'name': 'GREE', 'ipo': {'valuation_amount': 108960000000.0}},\n",
       " {'name': 'Facebook', 'ipo': {'valuation_amount': 104000000000.0}},\n",
       " {'name': 'Amazon', 'ipo': {'valuation_amount': 100000000000.0}},\n",
       " {'name': 'Twitter', 'ipo': {'valuation_amount': 18100000000.0}},\n",
       " {'name': 'Groupon', 'ipo': {'valuation_amount': 12800000000.0}}]"
      ]
     },
     "execution_count": 47,
     "metadata": {},
     "output_type": "execute_result"
    }
   ],
   "source": [
    "list(c.find(projection = {\"_id\":0, \"name\":1, \"ipo.valuation_amount\":1}).sort(\"ipo.valuation_amount\",-1))[:5]"
   ]
  },
  {
   "cell_type": "markdown",
   "metadata": {},
   "source": [
    "### 10. Retrieve the 10 companies with more employees, order by the `number of employees`"
   ]
  },
  {
   "cell_type": "code",
   "execution_count": 40,
   "metadata": {},
   "outputs": [
    {
     "data": {
      "text/plain": [
       "[{'name': 'Siemens', 'number_of_employees': 405000},\n",
       " {'name': 'IBM', 'number_of_employees': 388000},\n",
       " {'name': 'Toyota', 'number_of_employees': 320000},\n",
       " {'name': 'PayPal', 'number_of_employees': 300000},\n",
       " {'name': 'Nippon Telegraph and Telephone Corporation',\n",
       "  'number_of_employees': 227000},\n",
       " {'name': 'Samsung Electronics', 'number_of_employees': 221726},\n",
       " {'name': 'Accenture', 'number_of_employees': 205000},\n",
       " {'name': 'Tata Consultancy Services', 'number_of_employees': 200300},\n",
       " {'name': 'Flextronics International', 'number_of_employees': 200000},\n",
       " {'name': 'Safeway', 'number_of_employees': 186000}]"
      ]
     },
     "execution_count": 40,
     "metadata": {},
     "output_type": "execute_result"
    }
   ],
   "source": [
    "list(c.find(projection = {\"_id\":0, \"name\":1, \"number_of_employees\":1}).sort(\"number_of_employees\",-1).limit(10))"
   ]
  },
  {
   "cell_type": "markdown",
   "metadata": {},
   "source": [
    "### 11. All the companies founded on the second semester of the year. Limit your search to 1000 companies."
   ]
  },
  {
   "cell_type": "code",
   "execution_count": 48,
   "metadata": {},
   "outputs": [
    {
     "data": {
      "text/plain": [
       "[{'name': 'Wetpaint', 'founded_month': 10},\n",
       " {'name': 'Zoho', 'founded_month': 9},\n",
       " {'name': 'Digg', 'founded_month': 10},\n",
       " {'name': 'Omnidrive', 'founded_month': 11},\n",
       " {'name': 'eBay', 'founded_month': 9}]"
      ]
     },
     "execution_count": 48,
     "metadata": {},
     "output_type": "execute_result"
    }
   ],
   "source": [
    "list(c.find({\"founded_month\":{\"$gte\":7}}, projection = {\"_id\":0, \"name\":1,\"founded_month\":1}))[:5]"
   ]
  },
  {
   "cell_type": "markdown",
   "metadata": {},
   "source": [
    "### 12. All the companies founded before 2000 that have an acquisition amount of more than 10.000.000"
   ]
  },
  {
   "cell_type": "code",
   "execution_count": 71,
   "metadata": {},
   "outputs": [
    {
     "data": {
      "text/plain": [
       "[{'name': 'Postini',\n",
       "  'founded_year': 1999,\n",
       "  'acquisition': {'price_amount': 625000000}},\n",
       " {'name': 'SideStep',\n",
       "  'founded_year': 1999,\n",
       "  'acquisition': {'price_amount': 180000000}},\n",
       " {'name': 'Recipezaar',\n",
       "  'founded_year': 1999,\n",
       "  'acquisition': {'price_amount': 25000000}},\n",
       " {'name': 'PayPal',\n",
       "  'founded_year': 1998,\n",
       "  'acquisition': {'price_amount': 1500000000}},\n",
       " {'name': 'Snapfish',\n",
       "  'founded_year': 1999,\n",
       "  'acquisition': {'price_amount': 300000000}}]"
      ]
     },
     "execution_count": 71,
     "metadata": {},
     "output_type": "execute_result"
    }
   ],
   "source": [
    "condition_1={\"acquisition.price_amount\":{\"$gte\": 10000000}}\n",
    "condition_2={\"founded_year\":{\"$lte\": 1999}}\n",
    "\n",
    "list(c.find({\"$and\": [condition_1, condition_2]}, projection = {\"_id\":0, \"name\":1, \"acquisition.price_amount\":1,\"founded_year\":1}))[:5]"
   ]
  },
  {
   "cell_type": "markdown",
   "metadata": {},
   "source": [
    "### 13. All the companies that have been acquired after 2010, order by the acquisition amount, and retrieve only their `name` and `acquisition` field."
   ]
  },
  {
   "cell_type": "code",
   "execution_count": 66,
   "metadata": {},
   "outputs": [
    {
     "data": {
      "text/plain": [
       "[{'name': 'Geni',\n",
       "  'acquisition': {'price_amount': None,\n",
       "   'price_currency_code': 'USD',\n",
       "   'term_code': None,\n",
       "   'source_url': 'http://techcrunch.com/2012/11/28/all-in-the-family-myheritage-buys-former-yammer-stablemate-geni-com-raises-25m/',\n",
       "   'source_description': 'MyHeritage acquires Geni and $25M to build family tree of the whole world',\n",
       "   'acquired_year': 2012,\n",
       "   'acquired_month': 11,\n",
       "   'acquired_day': 28,\n",
       "   'acquiring_company': {'name': 'MyHeritage', 'permalink': 'myheritage'}}},\n",
       " {'name': 'Kyte',\n",
       "  'acquisition': {'price_amount': None,\n",
       "   'price_currency_code': 'USD',\n",
       "   'term_code': None,\n",
       "   'source_url': 'http://techcrunch.com/2011/01/31/exclusive-kit-digital-acquires-kickapps-kewego-and-kyte-for-77-2-million/',\n",
       "   'source_description': 'KIT digital Acquires KickApps, Kewego AND Kyte For $77.2 Million',\n",
       "   'acquired_year': 2011,\n",
       "   'acquired_month': 1,\n",
       "   'acquired_day': 31,\n",
       "   'acquiring_company': {'name': 'KIT digital', 'permalink': 'kit-digital'}}},\n",
       " {'name': 'blogTV',\n",
       "  'acquisition': {'price_amount': None,\n",
       "   'price_currency_code': 'USD',\n",
       "   'term_code': None,\n",
       "   'source_url': 'http://techcrunch.com/2013/03/13/younow-buys-blogtv/',\n",
       "   'source_description': 'Live Social Video Network YouNow Acquires Streaming Service BlogTV',\n",
       "   'acquired_year': 2013,\n",
       "   'acquired_month': 3,\n",
       "   'acquired_day': 13,\n",
       "   'acquiring_company': {'name': 'YouNow', 'permalink': 'younow'}}},\n",
       " {'name': 'delicious',\n",
       "  'acquisition': {'price_amount': None,\n",
       "   'price_currency_code': 'USD',\n",
       "   'term_code': None,\n",
       "   'source_url': 'http://techcrunch.com/2011/04/27/yahoo-sells-delicious-to-youtube-founders/',\n",
       "   'source_description': 'Yahoo Sells Delicious To YouTube Founders',\n",
       "   'acquired_year': 2011,\n",
       "   'acquired_month': 4,\n",
       "   'acquired_day': 27,\n",
       "   'acquiring_company': {'name': 'AVOS Systems', 'permalink': 'avos'}}},\n",
       " {'name': 'Mashery',\n",
       "  'acquisition': {'price_amount': None,\n",
       "   'price_currency_code': 'USD',\n",
       "   'term_code': None,\n",
       "   'source_url': 'http://allthingsd.com/20130417/intel-acquires-api-manager-mashery/',\n",
       "   'source_description': 'Intel Acquires API Manager Mashery',\n",
       "   'acquired_year': 2013,\n",
       "   'acquired_month': 4,\n",
       "   'acquired_day': 17,\n",
       "   'acquiring_company': {'name': 'Intel', 'permalink': 'intel'}}}]"
      ]
     },
     "execution_count": 66,
     "metadata": {},
     "output_type": "execute_result"
    }
   ],
   "source": [
    "condition={\"acquisition.acquired_year\":{\"$gt\":2010}}\n",
    "proj={\"_id\":0, \"name\":1, \"acquisition\":1}\n",
    "list(c.find(condition, projection = proj).sort(\"acquisition.price_amount\"))[:5]"
   ]
  },
  {
   "cell_type": "markdown",
   "metadata": {},
   "source": [
    "### 14. Order the companies by their `founded year`, retrieving only their `name` and `founded year`."
   ]
  },
  {
   "cell_type": "code",
   "execution_count": 93,
   "metadata": {},
   "outputs": [
    {
     "data": {
      "text/plain": [
       "[{'name': 'Flektor', 'founded_year': None},\n",
       " {'name': 'Lala', 'founded_year': None},\n",
       " {'name': 'SpinVox', 'founded_year': None},\n",
       " {'name': 'Gannett', 'founded_year': None},\n",
       " {'name': 'Info', 'founded_year': None}]"
      ]
     },
     "execution_count": 93,
     "metadata": {},
     "output_type": "execute_result"
    }
   ],
   "source": [
    "proj={\"_id\":0, \"name\":1, \"founded_year\":1}\n",
    "#list(c.find({\"founded_year\":{\"$ne\":\"null\"}},projection=proj).sort(\"founded_year\"))[:5]\n",
    "list(c.find(projection=proj).sort(\"founded_year\"))[:5]"
   ]
  },
  {
   "cell_type": "markdown",
   "metadata": {},
   "source": [
    "### 15. All the companies that have been founded on the first seven days of the month, including the seventh. Sort them by their `acquisition price` in a descending order. Limit the search to 10 documents."
   ]
  },
  {
   "cell_type": "code",
   "execution_count": 83,
   "metadata": {},
   "outputs": [],
   "source": [
    "#list(c.find().limit(1)) \n",
    "#founded_day"
   ]
  },
  {
   "cell_type": "code",
   "execution_count": 87,
   "metadata": {},
   "outputs": [
    {
     "data": {
      "text/plain": [
       "[{'name': 'Netscape', 'founded_day': 4},\n",
       " {'name': 'PayPal', 'founded_day': 1},\n",
       " {'name': 'Zappos', 'founded_day': 1},\n",
       " {'name': 'Alibaba', 'founded_day': 1},\n",
       " {'name': 'Postini', 'founded_day': 2},\n",
       " {'name': 'Danger', 'founded_day': 1},\n",
       " {'name': 'Clearwell Systems', 'founded_day': 6},\n",
       " {'name': 'PrimeSense', 'founded_day': 1},\n",
       " {'name': 'Amobee', 'founded_day': 1},\n",
       " {'name': 'BlueLithium', 'founded_day': 1}]"
      ]
     },
     "execution_count": 87,
     "metadata": {},
     "output_type": "execute_result"
    }
   ],
   "source": [
    "condition={\"founded_day\":{\"$lte\":7}}\n",
    "proj={\"_id\":0, \"name\":1, \"founded_day\":1}\n",
    "\n",
    "list(c.find(condition,projection=proj).sort(\"acquisition.price_amount\",-1).limit(10))"
   ]
  },
  {
   "cell_type": "markdown",
   "metadata": {},
   "source": [
    "### 16. All the companies on the 'web' `category` that have more than 4000 employees. Sort them by the amount of employees in ascending order."
   ]
  },
  {
   "cell_type": "code",
   "execution_count": 100,
   "metadata": {},
   "outputs": [
    {
     "data": {
      "text/plain": [
       "[{'name': 'Expedia', 'number_of_employees': 4400},\n",
       " {'name': 'AOL', 'number_of_employees': 8000},\n",
       " {'name': 'Webkinz', 'number_of_employees': 8657},\n",
       " {'name': 'Rakuten', 'number_of_employees': 10000},\n",
       " {'name': 'Los Angeles Times Media Group', 'number_of_employees': 10000}]"
      ]
     },
     "execution_count": 100,
     "metadata": {},
     "output_type": "execute_result"
    }
   ],
   "source": [
    "condition1={\"category_code\": \"web\"}\n",
    "condition2={\"number_of_employees\":{\"$gte\":4000}}\n",
    "list(c.find({\"$and\":[condition1, condition2]},projection={\"_id\":0, \"name\":1, \"number_of_employees\":1}).sort(\"number_of_employees\",1))[:5]"
   ]
  },
  {
   "cell_type": "markdown",
   "metadata": {},
   "source": [
    "### 17. All the companies whose acquisition amount is more than 10.000.000, and currency is 'EUR'."
   ]
  },
  {
   "cell_type": "code",
   "execution_count": 104,
   "metadata": {},
   "outputs": [
    {
     "data": {
      "text/plain": [
       "[{'name': 'ZYB'},\n",
       " {'name': 'Apertio'},\n",
       " {'name': 'Greenfield Online'},\n",
       " {'name': 'Webedia'},\n",
       " {'name': 'Wayfinder'}]"
      ]
     },
     "execution_count": 104,
     "metadata": {},
     "output_type": "execute_result"
    }
   ],
   "source": [
    "condition1={\"acquisition.price_amount\":{\"$gte\":10000000}}\n",
    "condition2={\"acquisition.price_currency_code\" : \"EUR\"}\n",
    "proj={\"_id\":0, \"name\":1}\n",
    "\n",
    "list(c.find({\"$and\" : [condition1, condition2]}, projection=proj))[:5]"
   ]
  },
  {
   "cell_type": "markdown",
   "metadata": {},
   "source": [
    "### 18. All the companies that have been acquired on the first trimester of the year. Limit the search to 10 companies, and retrieve only their `name` and `acquisition` fields."
   ]
  },
  {
   "cell_type": "code",
   "execution_count": 106,
   "metadata": {
    "scrolled": true
   },
   "outputs": [
    {
     "data": {
      "text/plain": [
       "{'_id': ObjectId('52cdef7c4bab8bd675297d8a'),\n",
       " 'acquisition': {'price_amount': 30000000,\n",
       "  'price_currency_code': 'USD',\n",
       "  'term_code': 'cash_and_stock',\n",
       "  'source_url': 'http://allthingsd.com/20131216/viggle-tries-to-bulk-up-its-social-tv-business-by-buying-wetpaint/?mod=atdtweet',\n",
       "  'source_description': ' Viggle Tries to Bulk Up Its Social TV Business by Buying Wetpaint',\n",
       "  'acquired_year': 2013,\n",
       "  'acquired_month': 12,\n",
       "  'acquired_day': 16,\n",
       "  'acquiring_company': {'name': 'Viggle', 'permalink': 'viggle'}}}"
      ]
     },
     "execution_count": 106,
     "metadata": {},
     "output_type": "execute_result"
    }
   ],
   "source": [
    "#list(c.find(projection={\"acquisition\":1}))[0]  acquired_month"
   ]
  },
  {
   "cell_type": "code",
   "execution_count": 110,
   "metadata": {},
   "outputs": [
    {
     "data": {
      "text/plain": [
       "[{'name': 'StumbleUpon',\n",
       "  'acquisition': {'price_amount': 29000000,\n",
       "   'price_currency_code': 'USD',\n",
       "   'term_code': None,\n",
       "   'source_url': 'http://techcrunch.com/2009/04/13/ebay-unacquires-stumbleupon/',\n",
       "   'source_description': \"StumbleUpon Beats Skype In Escaping EBay's Clutches\",\n",
       "   'acquired_year': 2009,\n",
       "   'acquired_month': 4,\n",
       "   'acquired_day': None,\n",
       "   'acquiring_company': {'name': 'StumbleUpon', 'permalink': 'stumbleupon'}}},\n",
       " {'name': 'Kyte',\n",
       "  'acquisition': {'price_amount': None,\n",
       "   'price_currency_code': 'USD',\n",
       "   'term_code': None,\n",
       "   'source_url': 'http://techcrunch.com/2011/01/31/exclusive-kit-digital-acquires-kickapps-kewego-and-kyte-for-77-2-million/',\n",
       "   'source_description': 'KIT digital Acquires KickApps, Kewego AND Kyte For $77.2 Million',\n",
       "   'acquired_year': 2011,\n",
       "   'acquired_month': 1,\n",
       "   'acquired_day': 31,\n",
       "   'acquiring_company': {'name': 'KIT digital', 'permalink': 'kit-digital'}}},\n",
       " {'name': 'Veoh',\n",
       "  'acquisition': {'price_amount': None,\n",
       "   'price_currency_code': 'USD',\n",
       "   'term_code': None,\n",
       "   'source_url': 'http://techcrunch.com/2010/04/07/qlipso-veoh/',\n",
       "   'source_description': \"Qlipso's CEO Explains Why He Bought Veoh\",\n",
       "   'acquired_year': 2010,\n",
       "   'acquired_month': 4,\n",
       "   'acquired_day': 7,\n",
       "   'acquiring_company': {'name': 'Qlipso', 'permalink': 'qlipso'}}},\n",
       " {'name': 'Jingle Networks',\n",
       "  'acquisition': {'price_amount': 62500000,\n",
       "   'price_currency_code': 'USD',\n",
       "   'term_code': 'cash_and_stock',\n",
       "   'source_url': 'http://www.masshightech.com/stories/2011/04/11/daily11-Jingle-Networks-bought-for-up-to-625M.html',\n",
       "   'source_description': 'Jingle Networks bought for up to $62.5M',\n",
       "   'acquired_year': 2011,\n",
       "   'acquired_month': 4,\n",
       "   'acquired_day': 11,\n",
       "   'acquiring_company': {'name': 'Marchex', 'permalink': 'marchex'}}},\n",
       " {'name': 'NetRatings',\n",
       "  'acquisition': {'price_amount': 327000000,\n",
       "   'price_currency_code': 'USD',\n",
       "   'term_code': 'cash',\n",
       "   'source_url': 'http://login.vnuemedia.com/hr/login/login_subscribe.jsp?id=0oqDem1gYIfIclz9i2%2Ffqj5NxCp2AC5DPbVnyT2da8GyV2mXjasabE128n69OrmcAh52%2FGE3pSG%2F%0AEKRYD9vh9EhrJrxukmUzh532fSMTZXL42gwPB80UWVtF1NwJ5UZSM%2BCkLU1mpYBoHFgiH%2Fi0f6Ax%0A9yMIVxt47t%2BHamhEQ0nkOEK24L',\n",
       "   'source_description': 'Nielsen buys rest of NetRatings',\n",
       "   'acquired_year': 2007,\n",
       "   'acquired_month': 2,\n",
       "   'acquired_day': None,\n",
       "   'acquiring_company': {'name': 'Nielsen', 'permalink': 'nielsen'}}},\n",
       " {'name': 'blogTV',\n",
       "  'acquisition': {'price_amount': None,\n",
       "   'price_currency_code': 'USD',\n",
       "   'term_code': None,\n",
       "   'source_url': 'http://techcrunch.com/2013/03/13/younow-buys-blogtv/',\n",
       "   'source_description': 'Live Social Video Network YouNow Acquires Streaming Service BlogTV',\n",
       "   'acquired_year': 2013,\n",
       "   'acquired_month': 3,\n",
       "   'acquired_day': 13,\n",
       "   'acquiring_company': {'name': 'YouNow', 'permalink': 'younow'}}},\n",
       " {'name': 'Livestream',\n",
       "  'acquisition': {'price_amount': None,\n",
       "   'price_currency_code': 'USD',\n",
       "   'term_code': 'cash_and_stock',\n",
       "   'source_url': '',\n",
       "   'source_description': 'company',\n",
       "   'acquired_year': 2008,\n",
       "   'acquired_month': 1,\n",
       "   'acquired_day': 1,\n",
       "   'acquiring_company': {'name': 'Adviqo', 'permalink': 'adviqo'}}},\n",
       " {'name': 'delicious',\n",
       "  'acquisition': {'price_amount': None,\n",
       "   'price_currency_code': 'USD',\n",
       "   'term_code': None,\n",
       "   'source_url': 'http://techcrunch.com/2011/04/27/yahoo-sells-delicious-to-youtube-founders/',\n",
       "   'source_description': 'Yahoo Sells Delicious To YouTube Founders',\n",
       "   'acquired_year': 2011,\n",
       "   'acquired_month': 4,\n",
       "   'acquired_day': 27,\n",
       "   'acquiring_company': {'name': 'AVOS Systems', 'permalink': 'avos'}}},\n",
       " {'name': 'Jobster',\n",
       "  'acquisition': {'price_amount': None,\n",
       "   'price_currency_code': 'USD',\n",
       "   'term_code': None,\n",
       "   'source_url': 'http://techcrunch.com/2010/04/05/zapoint-acquires-social-job-search-site-jobster-from-recruiting-com/',\n",
       "   'source_description': 'Zapoint Acquires Social Job Search Site Jobster From Recruiting.com',\n",
       "   'acquired_year': 2010,\n",
       "   'acquired_month': 4,\n",
       "   'acquired_day': 5,\n",
       "   'acquiring_company': {'name': 'Zapoint', 'permalink': 'zapoint'}}},\n",
       " {'name': 'Spock',\n",
       "  'acquisition': {'price_amount': None,\n",
       "   'price_currency_code': 'USD',\n",
       "   'term_code': None,\n",
       "   'source_url': 'http://www.paidcontent.org/entry/419-intelius-buys-people-search-engine-spock/',\n",
       "   'source_description': 'Intelius Buys People Search Engine Spock',\n",
       "   'acquired_year': 2009,\n",
       "   'acquired_month': 4,\n",
       "   'acquired_day': 30,\n",
       "   'acquiring_company': {'name': 'Intelius', 'permalink': 'intelius'}}}]"
      ]
     },
     "execution_count": 110,
     "metadata": {},
     "output_type": "execute_result"
    }
   ],
   "source": [
    "condition = {\"acquisition.acquired_month\": {\"$lte\":4}}\n",
    "proj={\"_id\":0, \"name\":1, \"acquisition\":1}\n",
    "\n",
    "list(c.find(condition, projection=proj).limit(10))\n",
    "\n"
   ]
  },
  {
   "cell_type": "markdown",
   "metadata": {},
   "source": [
    "# Bonus\n",
    "### 19. All the companies that have been founded between 2000 and 2010, but have not been acquired before 2011."
   ]
  },
  {
   "cell_type": "code",
   "execution_count": null,
   "metadata": {},
   "outputs": [],
   "source": [
    "# Your Code"
   ]
  },
  {
   "cell_type": "markdown",
   "metadata": {},
   "source": [
    "### 20. All the companies that have been 'deadpooled' after the third year."
   ]
  },
  {
   "cell_type": "code",
   "execution_count": null,
   "metadata": {},
   "outputs": [],
   "source": [
    "# Your Code"
   ]
  },
  {
   "cell_type": "markdown",
   "metadata": {},
   "source": [
    "**⚠️ Did you do this?**\n",
    "\n",
    "```python\n",
    "list(collection.find(query))[:5] #or a reasonably low number\n",
    "```"
   ]
  }
 ],
 "metadata": {
  "kernelspec": {
   "display_name": "Python 3 (ipykernel)",
   "language": "python",
   "name": "python3"
  },
  "language_info": {
   "codemirror_mode": {
    "name": "ipython",
    "version": 3
   },
   "file_extension": ".py",
   "mimetype": "text/x-python",
   "name": "python",
   "nbconvert_exporter": "python",
   "pygments_lexer": "ipython3",
   "version": "3.11.5"
  },
  "toc": {
   "base_numbering": 1,
   "nav_menu": {},
   "number_sections": true,
   "sideBar": true,
   "skip_h1_title": false,
   "title_cell": "Table of Contents",
   "title_sidebar": "Contents",
   "toc_cell": false,
   "toc_position": {},
   "toc_section_display": true,
   "toc_window_display": true
  }
 },
 "nbformat": 4,
 "nbformat_minor": 2
}
