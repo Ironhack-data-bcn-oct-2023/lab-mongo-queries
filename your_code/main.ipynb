{
 "cells": [
  {
   "cell_type": "markdown",
   "metadata": {},
   "source": [
    "# Advanced Querying Mongo"
   ]
  },
  {
   "cell_type": "markdown",
   "metadata": {},
   "source": [
    "**⚠️ IMPORTANT: Limit your print to avoid infinite scrolling. Otherwise your\n",
    "code will be lost between print lines. If working with lists do:**\n",
    "\n",
    "```python\n",
    "list(collection.find(query))[:5] #or a reasonably low number\n",
    "```"
   ]
  },
  {
   "cell_type": "markdown",
   "metadata": {},
   "source": [
    "Importing libraries and setting up connection"
   ]
  },
  {
   "cell_type": "code",
   "execution_count": 4,
   "metadata": {},
   "outputs": [],
   "source": [
    "from pymongo import MongoClient\n",
    "import pandas as pd\n",
    "import time\n"
   ]
  },
  {
   "cell_type": "code",
   "execution_count": 9,
   "metadata": {},
   "outputs": [],
   "source": [
    "client = MongoClient(\"localhost:27017\")\n",
    "db = client[\"Ironhack\"]\n",
    "c= db.get_collection(\"companies\")"
   ]
  },
  {
   "cell_type": "markdown",
   "metadata": {},
   "source": [
    "### 1. All the companies whose name match 'Babelgum'. Retrieve only their `name` field."
   ]
  },
  {
   "cell_type": "code",
   "execution_count": 23,
   "metadata": {},
   "outputs": [
    {
     "data": {
      "text/plain": [
       "[{'name': 'Babelgum'}]"
      ]
     },
     "execution_count": 23,
     "metadata": {},
     "output_type": "execute_result"
    }
   ],
   "source": [
    "filter_1 = {\"name\":\"Babelgum\"}\n",
    "projection = {\"_id\":0, \"name\":1}\n",
    "\n",
    "\n",
    "a = list(c.find(filter_1, projection))\n",
    "\n",
    "no_dups = []\n",
    "for i in a:\n",
    "    if i not in no_dups:\n",
    "        no_dups.append(i)\n",
    "no_dups                    "
   ]
  },
  {
   "cell_type": "markdown",
   "metadata": {},
   "source": [
    "### 2. All the companies that have more than 5000 employees. Limit the search to 20 companies and sort them by **number of employees**."
   ]
  },
  {
   "cell_type": "code",
   "execution_count": 74,
   "metadata": {},
   "outputs": [
    {
     "data": {
      "text/plain": [
       "[{'name': 'Siemens'},\n",
       " {'name': 'IBM'},\n",
       " {'name': 'Toyota'},\n",
       " {'name': 'PayPal'},\n",
       " {'name': 'Nippon Telegraph and Telephone Corporation'},\n",
       " {'name': 'Samsung Electronics'},\n",
       " {'name': 'Accenture'},\n",
       " {'name': 'Tata Consultancy Services'},\n",
       " {'name': 'Flextronics International'},\n",
       " {'name': 'Safeway'},\n",
       " {'name': 'Sony'},\n",
       " {'name': 'LG'},\n",
       " {'name': 'Ford'},\n",
       " {'name': 'Boeing'},\n",
       " {'name': 'Digital Equipment Corporation'},\n",
       " {'name': 'Nokia'},\n",
       " {'name': 'MItsubishi Electric'},\n",
       " {'name': 'Comcast'},\n",
       " {'name': 'Bertelsmann'}]"
      ]
     },
     "execution_count": 74,
     "metadata": {},
     "output_type": "execute_result"
    }
   ],
   "source": [
    "filter_1 = {\"number_of_employees\": {\"$gte\": 5000}}\n",
    "projection = {\"_id\":0, \"name\":1}\n",
    "\n",
    "\n",
    "a = list(c.find(filter_1, projection).sort(\"number_of_employees\", -1).limit(20))\n",
    "\n",
    "no_dups = []\n",
    "for i in a:\n",
    "    if i not in no_dups:\n",
    "        no_dups.append(i)\n",
    "no_dups                    "
   ]
  },
  {
   "cell_type": "markdown",
   "metadata": {},
   "source": [
    "### 3. All the companies founded between 2000 and 2005, both years included. Retrieve only the `name` and `founded_year` fields."
   ]
  },
  {
   "cell_type": "code",
   "execution_count": 32,
   "metadata": {},
   "outputs": [
    {
     "data": {
      "text/plain": [
       "[{'name': 'Wetpaint', 'founded_year': 2005},\n",
       " {'name': 'Zoho', 'founded_year': 2005},\n",
       " {'name': 'Digg', 'founded_year': 2004},\n",
       " {'name': 'Facebook', 'founded_year': 2004},\n",
       " {'name': 'Omnidrive', 'founded_year': 2005},\n",
       " {'name': 'StumbleUpon', 'founded_year': 2002},\n",
       " {'name': 'Gizmoz', 'founded_year': 2003},\n",
       " {'name': 'Helio', 'founded_year': 2005},\n",
       " {'name': 'Plaxo', 'founded_year': 2002},\n",
       " {'name': 'Technorati', 'founded_year': 2002},\n",
       " {'name': 'AddThis', 'founded_year': 2004},\n",
       " {'name': 'Veoh', 'founded_year': 2004},\n",
       " {'name': 'Jingle Networks', 'founded_year': 2005},\n",
       " {'name': 'Meetup', 'founded_year': 2002},\n",
       " {'name': 'LifeLock', 'founded_year': 2005},\n",
       " {'name': 'Wesabe', 'founded_year': 2005},\n",
       " {'name': 'Jangl SMS', 'founded_year': 2005},\n",
       " {'name': 'SmugMug', 'founded_year': 2002},\n",
       " {'name': 'Jajah', 'founded_year': 2005},\n",
       " {'name': 'Skype', 'founded_year': 2003}]"
      ]
     },
     "execution_count": 32,
     "metadata": {},
     "output_type": "execute_result"
    }
   ],
   "source": [
    "condition_1 = {\"founded_year\": {\"$gte\": 2000}}\n",
    "condition_2 = {\"founded_year\": {\"$lte\": 2005}}\n",
    "\n",
    "projection = {\"_id\": 0, \"name\":1, \"founded_year\": 1}\n",
    "\n",
    "\n",
    "a = list(c.find({\"$and\": [condition_1, condition_2]}, projection).limit(20))\n",
    "\n",
    "\n",
    "no_dups = []\n",
    "for i in a:\n",
    "    if i not in no_dups:\n",
    "        no_dups.append(i)\n",
    "no_dups"
   ]
  },
  {
   "cell_type": "markdown",
   "metadata": {},
   "source": [
    "### 4. All the companies that had a Valuation Amount of more than 100.000.000 and have been founded before 2010. Retrieve only the `name` and `ipo` fields."
   ]
  },
  {
   "cell_type": "code",
   "execution_count": 39,
   "metadata": {},
   "outputs": [
    {
     "data": {
      "text/plain": [
       "[{'name': 'Facebook',\n",
       "  'ipo': {'valuation_amount': 104000000000.0,\n",
       "   'valuation_currency_code': 'USD',\n",
       "   'pub_year': 2012,\n",
       "   'pub_month': 5,\n",
       "   'pub_day': 18,\n",
       "   'stock_symbol': 'NASDAQ:FB'}},\n",
       " {'name': 'Twitter',\n",
       "  'ipo': {'valuation_amount': 18100000000.0,\n",
       "   'valuation_currency_code': 'USD',\n",
       "   'pub_year': 2013,\n",
       "   'pub_month': 11,\n",
       "   'pub_day': 7,\n",
       "   'stock_symbol': 'NYSE:TWTR'}},\n",
       " {'name': 'Yelp',\n",
       "  'ipo': {'valuation_amount': 1300000000,\n",
       "   'valuation_currency_code': 'USD',\n",
       "   'pub_year': 2012,\n",
       "   'pub_month': 3,\n",
       "   'pub_day': 2,\n",
       "   'stock_symbol': 'NYSE:YELP'}},\n",
       " {'name': 'LinkedIn',\n",
       "  'ipo': {'valuation_amount': 9310000000.0,\n",
       "   'valuation_currency_code': 'USD',\n",
       "   'pub_year': 2011,\n",
       "   'pub_month': 7,\n",
       "   'pub_day': 20,\n",
       "   'stock_symbol': 'NYSE:LNKD'}},\n",
       " {'name': 'Amazon',\n",
       "  'ipo': {'valuation_amount': 100000000000.0,\n",
       "   'valuation_currency_code': 'USD',\n",
       "   'pub_year': 1997,\n",
       "   'pub_month': 5,\n",
       "   'pub_day': None,\n",
       "   'stock_symbol': 'NASDAQ:AMZN'}},\n",
       " {'name': 'Brightcove',\n",
       "  'ipo': {'valuation_amount': 290000000,\n",
       "   'valuation_currency_code': 'USD',\n",
       "   'pub_year': 2012,\n",
       "   'pub_month': 2,\n",
       "   'pub_day': 17,\n",
       "   'stock_symbol': 'NASDAQ:BCOV'}},\n",
       " {'name': 'KIT digital',\n",
       "  'ipo': {'valuation_amount': 235000000,\n",
       "   'valuation_currency_code': 'USD',\n",
       "   'pub_year': 2010,\n",
       "   'pub_month': 7,\n",
       "   'pub_day': 27,\n",
       "   'stock_symbol': 'KITD'}},\n",
       " {'name': 'Nielsen',\n",
       "  'ipo': {'valuation_amount': 1600000000,\n",
       "   'valuation_currency_code': 'USD',\n",
       "   'pub_year': 2011,\n",
       "   'pub_month': 1,\n",
       "   'pub_day': 26,\n",
       "   'stock_symbol': 'NYSE:NLSN'}},\n",
       " {'name': 'OpenTable',\n",
       "  'ipo': {'valuation_amount': 1050000000,\n",
       "   'valuation_currency_code': 'USD',\n",
       "   'pub_year': 2009,\n",
       "   'pub_month': 5,\n",
       "   'pub_day': 21,\n",
       "   'stock_symbol': 'NASDAQ:OPEN'}},\n",
       " {'name': 'ChannelAdvisor',\n",
       "  'ipo': {'valuation_amount': 287000000,\n",
       "   'valuation_currency_code': 'USD',\n",
       "   'pub_year': 2013,\n",
       "   'pub_month': 5,\n",
       "   'pub_day': 23,\n",
       "   'stock_symbol': 'NYSE:ECOM'}},\n",
       " {'name': 'Jive Software',\n",
       "  'ipo': {'valuation_amount': 1000000000,\n",
       "   'valuation_currency_code': 'USD',\n",
       "   'pub_year': 2012,\n",
       "   'pub_month': 2,\n",
       "   'pub_day': 3,\n",
       "   'stock_symbol': 'NASDAQ:JIVE'}},\n",
       " {'name': 'Zillow',\n",
       "  'ipo': {'valuation_amount': 2550000000.0,\n",
       "   'valuation_currency_code': 'USD',\n",
       "   'pub_year': 2011,\n",
       "   'pub_month': 7,\n",
       "   'pub_day': 19,\n",
       "   'stock_symbol': 'NASDAQ:Z'}},\n",
       " {'name': 'Wix',\n",
       "  'ipo': {'valuation_amount': 750000000,\n",
       "   'valuation_currency_code': 'USD',\n",
       "   'pub_year': 2013,\n",
       "   'pub_month': 11,\n",
       "   'pub_day': 6,\n",
       "   'stock_symbol': 'NASDAQ:WIX'}},\n",
       " {'name': 'Shutterfly',\n",
       "  'ipo': {'valuation_amount': 350000000,\n",
       "   'valuation_currency_code': 'USD',\n",
       "   'pub_year': 2006,\n",
       "   'pub_month': 9,\n",
       "   'pub_day': 29,\n",
       "   'stock_symbol': 'SFLY'}},\n",
       " {'name': 'TripAdvisor',\n",
       "  'ipo': {'valuation_amount': 3273770000.0,\n",
       "   'valuation_currency_code': 'USD',\n",
       "   'pub_year': 2011,\n",
       "   'pub_month': 12,\n",
       "   'pub_day': 21,\n",
       "   'stock_symbol': 'TRIP'}},\n",
       " {'name': 'Salesforce',\n",
       "  'ipo': {'valuation_amount': 110000000,\n",
       "   'valuation_currency_code': 'USD',\n",
       "   'pub_year': 2004,\n",
       "   'pub_month': 7,\n",
       "   'pub_day': 2,\n",
       "   'stock_symbol': 'NYSE:CRM'}},\n",
       " {'name': 'HomeAway',\n",
       "  'ipo': {'valuation_amount': 3000000000.0,\n",
       "   'valuation_currency_code': 'USD',\n",
       "   'pub_year': 2011,\n",
       "   'pub_month': 6,\n",
       "   'pub_day': 29,\n",
       "   'stock_symbol': 'NASDAQ:AWAY'}},\n",
       " {'name': 'QuinStreet',\n",
       "  'ipo': {'valuation_amount': 140000000,\n",
       "   'valuation_currency_code': 'USD',\n",
       "   'pub_year': 2010,\n",
       "   'pub_month': 1,\n",
       "   'pub_day': 11,\n",
       "   'stock_symbol': 'NASDAQ:QNST'}},\n",
       " {'name': 'Rackspace',\n",
       "  'ipo': {'valuation_amount': 5440000000.0,\n",
       "   'valuation_currency_code': 'USD',\n",
       "   'pub_year': 2011,\n",
       "   'pub_month': 11,\n",
       "   'pub_day': 7,\n",
       "   'stock_symbol': 'RAX'}},\n",
       " {'name': 'BMC Software',\n",
       "  'ipo': {'valuation_amount': 6000000000.0,\n",
       "   'valuation_currency_code': 'USD',\n",
       "   'pub_year': 1988,\n",
       "   'pub_month': 8,\n",
       "   'pub_day': 12,\n",
       "   'stock_symbol': 'NASDAQ:BMC'}}]"
      ]
     },
     "execution_count": 39,
     "metadata": {},
     "output_type": "execute_result"
    }
   ],
   "source": [
    "condition_1 = {\"ipo.valuation_amount\": {\"$gte\": 100000000}}\n",
    "condition_2 = {\"founded_year\": {\"$lte\": 2010}}\n",
    "\n",
    "projection = {\"_id\": 0, \"name\":1, \"ipo\": 1}\n",
    "\n",
    "\n",
    "a = list(c.find({\"$and\": [condition_1, condition_2]}, projection).limit(20))\n",
    "\n",
    "\n",
    "no_dups = []\n",
    "for i in a:\n",
    "    if i not in no_dups:\n",
    "        no_dups.append(i)\n",
    "no_dups"
   ]
  },
  {
   "cell_type": "markdown",
   "metadata": {},
   "source": [
    "### 5. All the companies that have less than 1000 employees and have been founded before 2005. Order them by the number of employees and limit the search to 10 companies."
   ]
  },
  {
   "cell_type": "code",
   "execution_count": 44,
   "metadata": {},
   "outputs": [
    {
     "data": {
      "text/plain": [
       "[{'name': 'Sonus Networks', 'number_of_employees': 1000},\n",
       " {'name': 'SK Net Service Company Ltd', 'number_of_employees': 1000},\n",
       " {'name': 'Gumtree', 'number_of_employees': 1000},\n",
       " {'name': 'Akamai Technologies', 'number_of_employees': 1000},\n",
       " {'name': 'Omniture', 'number_of_employees': 1000},\n",
       " {'name': 'Antal International', 'number_of_employees': 1000},\n",
       " {'name': \"OC'LIANE\", 'number_of_employees': 1000},\n",
       " {'name': 'FANUC Robotics America', 'number_of_employees': 1000},\n",
       " {'name': 'Telenav', 'number_of_employees': 1000},\n",
       " {'name': 'Yodle', 'number_of_employees': 1000}]"
      ]
     },
     "execution_count": 44,
     "metadata": {},
     "output_type": "execute_result"
    }
   ],
   "source": [
    "condition_1 = {\"number_of_employees\": {\"$lte\": 1000}}\n",
    "condition_2 = {\"founded_year\": {\"$lte\": 2005}}\n",
    "\n",
    "projection = {\"_id\": 0, \"name\":1, \"number_of_employees\": 1}\n",
    "\n",
    "\n",
    "a = list(c.find({\"$and\": [condition_1, condition_2]}, projection).sort(\"number_of_employees\", -1).limit(10))\n",
    "no_dups = []\n",
    "for i in a:\n",
    "    if i not in no_dups:\n",
    "        no_dups.append(i)\n",
    "no_dups"
   ]
  },
  {
   "cell_type": "markdown",
   "metadata": {},
   "source": [
    "### 6. All the companies that don't include the `partners` field."
   ]
  },
  {
   "cell_type": "code",
   "execution_count": 48,
   "metadata": {},
   "outputs": [
    {
     "data": {
      "text/plain": [
       "[{'name': 'Wetpaint'},\n",
       " {'name': 'AdventNet'},\n",
       " {'name': 'Zoho'},\n",
       " {'name': 'Digg'},\n",
       " {'name': 'Facebook'},\n",
       " {'name': 'Omnidrive'},\n",
       " {'name': 'Postini'},\n",
       " {'name': 'Geni'},\n",
       " {'name': 'Flektor'},\n",
       " {'name': 'Fox Interactive Media'}]"
      ]
     },
     "execution_count": 48,
     "metadata": {},
     "output_type": "execute_result"
    }
   ],
   "source": [
    "filter_1 = {\"partners\": []}\n",
    "\n",
    "projection = {\"_id\": 0, \"name\":1}\n",
    "\n",
    "\n",
    "a = list(c.find(filter_1, projection).limit(10))\n",
    "no_dups = []\n",
    "for i in a:\n",
    "    if i not in no_dups:\n",
    "        no_dups.append(i)\n",
    "no_dups"
   ]
  },
  {
   "cell_type": "markdown",
   "metadata": {},
   "source": [
    "### 7. All the companies that have a null type of value on the `category_code` field."
   ]
  },
  {
   "cell_type": "code",
   "execution_count": 50,
   "metadata": {},
   "outputs": [
    {
     "data": {
      "text/plain": [
       "[{'name': 'Collective'},\n",
       " {'name': 'Snimmer'},\n",
       " {'name': 'KoolIM'},\n",
       " {'name': 'Level9 Media'},\n",
       " {'name': 'VidKing'},\n",
       " {'name': 'Drigg'},\n",
       " {'name': 'SpaceTime'},\n",
       " {'name': 'Touch Clarity'},\n",
       " {'name': 'MMDAYS'},\n",
       " {'name': 'Inside Group'}]"
      ]
     },
     "execution_count": 50,
     "metadata": {},
     "output_type": "execute_result"
    }
   ],
   "source": [
    "filter_1 = {\"category_code\": None}\n",
    "\n",
    "projection = {\"_id\": 0, \"name\":1}\n",
    "\n",
    "\n",
    "a = list(c.find(filter_1, projection).limit(10))\n",
    "no_dups = []\n",
    "for i in a:\n",
    "    if i not in no_dups:\n",
    "        no_dups.append(i)\n",
    "no_dups"
   ]
  },
  {
   "cell_type": "markdown",
   "metadata": {},
   "source": [
    "### 8. All the companies that have at least 100 employees but less than 1000. Retrieve only the `name` and `number of employees` fields."
   ]
  },
  {
   "cell_type": "code",
   "execution_count": 62,
   "metadata": {},
   "outputs": [
    {
     "data": {
      "text/plain": [
       "[{'name': 'Fon', 'number_of_employees': 100},\n",
       " {'name': 'INgage Networks', 'number_of_employees': 100},\n",
       " {'name': 'TrialPay', 'number_of_employees': 100},\n",
       " {'name': 'mig33', 'number_of_employees': 100},\n",
       " {'name': 'Simply Hired', 'number_of_employees': 100},\n",
       " {'name': 'EchoSign', 'number_of_employees': 100},\n",
       " {'name': 'Verimatrix', 'number_of_employees': 100},\n",
       " {'name': 'Firetide', 'number_of_employees': 100},\n",
       " {'name': 'hi5', 'number_of_employees': 100},\n",
       " {'name': 'Redfin', 'number_of_employees': 100}]"
      ]
     },
     "execution_count": 62,
     "metadata": {},
     "output_type": "execute_result"
    }
   ],
   "source": [
    "condition_1 = {\"number_of_employees\": {\"$gte\": 100}}\n",
    "condition_2 = {\"number_of_employees\": {\"$lte\": 1000}}\n",
    "\n",
    "projection = {\"_id\": 0, \"name\": 1, \"number_of_employees\": 1}\n",
    "\n",
    "results = c.find({\"$and\": [condition_1, condition_2]}, projection).sort(\"number_of_employees\").limit(10)\n",
    "\n",
    "no_dups = []\n",
    "for i in results:\n",
    "    if i not in no_dups:\n",
    "        no_dups.append(i)\n",
    "no_dups"
   ]
  },
  {
   "cell_type": "markdown",
   "metadata": {},
   "source": [
    "### 9. Order all the companies by their IPO price in a descending order."
   ]
  },
  {
   "cell_type": "code",
   "execution_count": 68,
   "metadata": {},
   "outputs": [
    {
     "data": {
      "text/plain": [
       "[{'name': 'GREE', 'ipo': {'valuation_amount': 108960000000.0}},\n",
       " {'name': 'Facebook', 'ipo': {'valuation_amount': 104000000000.0}},\n",
       " {'name': 'Amazon', 'ipo': {'valuation_amount': 100000000000.0}},\n",
       " {'name': 'Twitter', 'ipo': {'valuation_amount': 18100000000.0}},\n",
       " {'name': 'Groupon', 'ipo': {'valuation_amount': 12800000000.0}},\n",
       " {'name': 'Tencent', 'ipo': {'valuation_amount': 11000000000.0}},\n",
       " {'name': 'Western Digital', 'ipo': {'valuation_amount': 9430000000.0}},\n",
       " {'name': 'LinkedIn', 'ipo': {'valuation_amount': 9310000000.0}},\n",
       " {'name': 'BMC Software', 'ipo': {'valuation_amount': 6000000000.0}},\n",
       " {'name': 'Rackspace', 'ipo': {'valuation_amount': 5440000000.0}}]"
      ]
     },
     "execution_count": 68,
     "metadata": {},
     "output_type": "execute_result"
    }
   ],
   "source": [
    "filter_1 = {\"ipo.valuation_amount\": {\"$gte\": 0}}\n",
    "\n",
    "projection = {\"_id\": 0, \"name\":1, \"ipo.valuation_amount\": 1}\n",
    "\n",
    "\n",
    "a = list(c.find(filter_1, projection).sort(\"ipo.valuation_amount\", -1).limit(10))\n",
    "no_dups = []\n",
    "for i in a:\n",
    "    if i not in no_dups:\n",
    "        no_dups.append(i)\n",
    "no_dups"
   ]
  },
  {
   "cell_type": "markdown",
   "metadata": {},
   "source": [
    "### 10. Retrieve the 10 companies with more employees, order by the `number of employees`"
   ]
  },
  {
   "cell_type": "code",
   "execution_count": 73,
   "metadata": {},
   "outputs": [
    {
     "data": {
      "text/plain": [
       "[{'name': 'Siemens', 'number_of_employees': 405000},\n",
       " {'name': 'IBM', 'number_of_employees': 388000},\n",
       " {'name': 'Toyota', 'number_of_employees': 320000},\n",
       " {'name': 'PayPal', 'number_of_employees': 300000},\n",
       " {'name': 'Nippon Telegraph and Telephone Corporation',\n",
       "  'number_of_employees': 227000},\n",
       " {'name': 'Samsung Electronics', 'number_of_employees': 221726},\n",
       " {'name': 'Accenture', 'number_of_employees': 205000},\n",
       " {'name': 'Tata Consultancy Services', 'number_of_employees': 200300},\n",
       " {'name': 'Flextronics International', 'number_of_employees': 200000},\n",
       " {'name': 'Safeway', 'number_of_employees': 186000}]"
      ]
     },
     "execution_count": 73,
     "metadata": {},
     "output_type": "execute_result"
    }
   ],
   "source": [
    "filter_1 = {} \n",
    "\n",
    "projection = {\"_id\": 0, \"name\": 1, \"number_of_employees\": 1}\n",
    "\n",
    "results = c.find(filter_1, projection).sort(\"number_of_employees\", -1).limit(10)\n",
    "\n",
    "no_dups = []\n",
    "for i in results:\n",
    "    if i not in no_dups:\n",
    "        no_dups.append(i)\n",
    "\n",
    "no_dups"
   ]
  },
  {
   "cell_type": "markdown",
   "metadata": {},
   "source": [
    "### 11. All the companies founded on the second semester of the year. Limit your search to 1000 companies."
   ]
  },
  {
   "cell_type": "code",
   "execution_count": 76,
   "metadata": {},
   "outputs": [
    {
     "data": {
      "text/plain": [
       "[{'name': 'Kyte', 'founded_month': 12},\n",
       " {'name': 'Swivel', 'founded_month': 12},\n",
       " {'name': 'FlickIM', 'founded_month': 12},\n",
       " {'name': 'Ikan', 'founded_month': 12},\n",
       " {'name': 'Wesabe', 'founded_month': 12},\n",
       " {'name': 'Sway', 'founded_month': 12},\n",
       " {'name': 'hi5', 'founded_month': 12},\n",
       " {'name': 'Socialtext', 'founded_month': 12},\n",
       " {'name': 'blinkx', 'founded_month': 12},\n",
       " {'name': 'Thoof', 'founded_month': 12}]"
      ]
     },
     "execution_count": 76,
     "metadata": {},
     "output_type": "execute_result"
    }
   ],
   "source": [
    "filter_1 = {\"founded_month\": {\"$gte\": 7}} \n",
    "\n",
    "projection = {\"_id\": 0, \"name\": 1, \"founded_month\": 1}\n",
    "\n",
    "results = c.find(filter_1, projection).sort(\"founded_month\", -1).limit(10)\n",
    "\n",
    "no_dups = []\n",
    "for i in results:\n",
    "    if i not in no_dups:\n",
    "        no_dups.append(i)\n",
    "\n",
    "no_dups"
   ]
  },
  {
   "cell_type": "markdown",
   "metadata": {},
   "source": [
    "### 12. All the companies founded before 2000 that have an acquisition amount of more than 10.000.000"
   ]
  },
  {
   "cell_type": "code",
   "execution_count": 83,
   "metadata": {},
   "outputs": [
    {
     "data": {
      "text/plain": [
       "[{'name': 'BEA Systems', 'acquisition': {'price_amount': 8500000000.0}},\n",
       " {'name': 'Navteq', 'acquisition': {'price_amount': 8100000000.0}},\n",
       " {'name': 'Sun Microsystems', 'acquisition': {'price_amount': 7400000000.0}},\n",
       " {'name': 'Pixar', 'acquisition': {'price_amount': 7400000000.0}},\n",
       " {'name': 'LSI', 'acquisition': {'price_amount': 6600000000.0}},\n",
       " {'name': 'National Semiconductor',\n",
       "  'acquisition': {'price_amount': 6500000000.0}},\n",
       " {'name': 'aQuantive', 'acquisition': {'price_amount': 6400000000.0}},\n",
       " {'name': 'Siebel Systems', 'acquisition': {'price_amount': 5850000000.0}},\n",
       " {'name': 'Sybase', 'acquisition': {'price_amount': 5800000000.0}},\n",
       " {'name': 'Affiliated Computer Services',\n",
       "  'acquisition': {'price_amount': 5750000000.0}}]"
      ]
     },
     "execution_count": 83,
     "metadata": {},
     "output_type": "execute_result"
    }
   ],
   "source": [
    "condition_1 = {\"founded_year\": {\"$lte\": 2000}}\n",
    "condition_2 = {\"acquisition.price_amount\": {\"$gte\": 10000000}}\n",
    "\n",
    "projection = {\"_id\": 0, \"name\": 1, \"acquisition.price_amount\": 1}\n",
    "\n",
    "results = c.find({\"$and\": [condition_1, condition_2]}, projection).sort(\"acquisition.price_amount\", -1).limit(10)\n",
    "\n",
    "no_dups = []\n",
    "for i in results:\n",
    "    if i not in no_dups:\n",
    "        no_dups.append(i)\n",
    "no_dups"
   ]
  },
  {
   "cell_type": "markdown",
   "metadata": {},
   "source": [
    "### 13. All the companies that have been acquired after 2010, order by the acquisition amount, and retrieve only their `name` and `acquisition` field."
   ]
  },
  {
   "cell_type": "code",
   "execution_count": 90,
   "metadata": {},
   "outputs": [
    {
     "data": {
      "text/plain": [
       "[{'name': 'T-Mobile', 'acquisition': {'price_amount': 39000000000.0}},\n",
       " {'name': 'Goodrich Corporation',\n",
       "  'acquisition': {'price_amount': 18400000000.0}},\n",
       " {'name': 'LSI', 'acquisition': {'price_amount': 6600000000.0}},\n",
       " {'name': 'National Semiconductor',\n",
       "  'acquisition': {'price_amount': 6500000000.0}},\n",
       " {'name': 'Ariba', 'acquisition': {'price_amount': 4300000000.0}},\n",
       " {'name': 'NetLogic Microsystems',\n",
       "  'acquisition': {'price_amount': 3700000000.0}},\n",
       " {'name': 'SuccessFactors', 'acquisition': {'price_amount': 3400000000.0}},\n",
       " {'name': 'Qualcomm Atheros', 'acquisition': {'price_amount': 3100000000.0}},\n",
       " {'name': 'Global Crossing', 'acquisition': {'price_amount': 3000000000.0}}]"
      ]
     },
     "execution_count": 90,
     "metadata": {},
     "output_type": "execute_result"
    }
   ],
   "source": [
    "condition_1 = {\"acquisition.acquired_year\": {\"$gt\": 2010}}\n",
    "condition_2 = {\"acquisition.price_amount\": {\"$exists\": True}}\n",
    "\n",
    "projection = {\"_id\": 0, \"name\": 1, \"acquisition.price_amount\": 1}\n",
    "\n",
    "results = c.find({\"$and\": [condition_1, condition_2]}, projection).sort(\"acquisition.price_amount\", -1).limit(10)\n",
    "\n",
    "no_dups = []\n",
    "for i in results:\n",
    "    if i not in no_dups:\n",
    "        no_dups.append(i)\n",
    "\n",
    "no_dups\n"
   ]
  },
  {
   "cell_type": "markdown",
   "metadata": {},
   "source": [
    "### 14. Order the companies by their `founded year`, retrieving only their `name` and `founded year`."
   ]
  },
  {
   "cell_type": "code",
   "execution_count": 92,
   "metadata": {},
   "outputs": [
    {
     "data": {
      "text/plain": [
       "[{'name': 'Wamba', 'founded_year': 2013},\n",
       " {'name': 'Gimigo', 'founded_year': 2013},\n",
       " {'name': 'Clowdy', 'founded_year': 2013},\n",
       " {'name': 'Fixya', 'founded_year': 2013},\n",
       " {'name': 'Fluc', 'founded_year': 2013},\n",
       " {'name': 'SEOGroup', 'founded_year': 2013},\n",
       " {'name': 'Pikk', 'founded_year': 2013},\n",
       " {'name': 'WhosCall', 'founded_year': 2013},\n",
       " {'name': 'iBazar', 'founded_year': 2013},\n",
       " {'name': 'Advaliant', 'founded_year': 2013}]"
      ]
     },
     "execution_count": 92,
     "metadata": {},
     "output_type": "execute_result"
    }
   ],
   "source": [
    "filter_1 = {}\n",
    "\n",
    "projection = {\"_id\": 0, \"name\": 1, \"founded_year\": 1}\n",
    "\n",
    "results = c.find(filter_1, projection).sort(\"founded_year\", -1).limit(10)\n",
    "\n",
    "no_dups = []\n",
    "for i in results:\n",
    "    if i not in no_dups:\n",
    "        no_dups.append(i)\n",
    "no_dups"
   ]
  },
  {
   "cell_type": "markdown",
   "metadata": {},
   "source": [
    "### 15. All the companies that have been founded on the first seven days of the month, including the seventh. Sort them by their `acquisition price` in a descending order. Limit the search to 10 documents."
   ]
  },
  {
   "cell_type": "code",
   "execution_count": 96,
   "metadata": {},
   "outputs": [
    {
     "data": {
      "text/plain": [
       "[{'name': 'Netscape', 'acquisition': {'price_amount': 4200000000.0}},\n",
       " {'name': 'PayPal', 'acquisition': {'price_amount': 1500000000}},\n",
       " {'name': 'Zappos', 'acquisition': {'price_amount': 1200000000}},\n",
       " {'name': 'Alibaba', 'acquisition': {'price_amount': 1000000000}},\n",
       " {'name': 'Postini', 'acquisition': {'price_amount': 625000000}},\n",
       " {'name': 'Danger', 'acquisition': {'price_amount': 500000000}},\n",
       " {'name': 'Clearwell Systems', 'acquisition': {'price_amount': 410000000}},\n",
       " {'name': 'PrimeSense', 'acquisition': {'price_amount': 345000000}},\n",
       " {'name': 'Amobee', 'acquisition': {'price_amount': 321000000}},\n",
       " {'name': 'BlueLithium', 'acquisition': {'price_amount': 300000000}}]"
      ]
     },
     "execution_count": 96,
     "metadata": {},
     "output_type": "execute_result"
    }
   ],
   "source": [
    "filter_1 = {\"founded_day\": {\"$lte\": 7}}\n",
    "\n",
    "projection = {\"_id\": 0, \"name\": 1, \"acquisition.price_amount\": 1}\n",
    "\n",
    "results = c.find(filter_1, projection).sort(\"acquisition.price_amount\", -1).limit(10)\n",
    "\n",
    "no_dups = []\n",
    "for i in results:\n",
    "    if i not in no_dups:\n",
    "        no_dups.append(i)\n",
    "no_dups"
   ]
  },
  {
   "cell_type": "markdown",
   "metadata": {},
   "source": [
    "### 16. All the companies on the 'web' `category` that have more than 4000 employees. Sort them by the amount of employees in ascending order."
   ]
  },
  {
   "cell_type": "code",
   "execution_count": 101,
   "metadata": {},
   "outputs": [
    {
     "data": {
      "text/plain": [
       "[{'name': 'Experian', 'category_code': 'web', 'number_of_employees': 15500},\n",
       " {'name': 'eBay', 'category_code': 'web', 'number_of_employees': 15000},\n",
       " {'name': 'Yahoo!', 'category_code': 'web', 'number_of_employees': 13600},\n",
       " {'name': 'Rakuten', 'category_code': 'web', 'number_of_employees': 10000},\n",
       " {'name': 'Los Angeles Times Media Group',\n",
       "  'category_code': 'web',\n",
       "  'number_of_employees': 10000},\n",
       " {'name': 'Groupon', 'category_code': 'web', 'number_of_employees': 10000},\n",
       " {'name': 'Webkinz', 'category_code': 'web', 'number_of_employees': 8657},\n",
       " {'name': 'AOL', 'category_code': 'web', 'number_of_employees': 8000},\n",
       " {'name': 'Expedia', 'category_code': 'web', 'number_of_employees': 4400}]"
      ]
     },
     "execution_count": 101,
     "metadata": {},
     "output_type": "execute_result"
    }
   ],
   "source": [
    "condition_1 = {\"category_code\": \"web\"} \n",
    "condition_2 = {\"number_of_employees\": {\"$gte\": 4000}}\n",
    "\n",
    "projection = {\"_id\": 0, \"name\": 1, \"number_of_employees\": 1, \"category_code\": 1}\n",
    "\n",
    "results = c.find({\"$and\": [condition_1, condition_2]}, projection).sort(\"number_of_employees\", -1).limit(10)\n",
    "\n",
    "no_dups = []\n",
    "for i in results:\n",
    "    if i not in no_dups:\n",
    "        no_dups.append(i)\n",
    "\n",
    "no_dups"
   ]
  },
  {
   "cell_type": "markdown",
   "metadata": {},
   "source": [
    "### 17. All the companies whose acquisition amount is more than 10.000.000, and currency is 'EUR'."
   ]
  },
  {
   "cell_type": "code",
   "execution_count": 106,
   "metadata": {},
   "outputs": [
    {
     "data": {
      "text/plain": [
       "[{'name': 'ZYB'},\n",
       " {'name': 'Apertio'},\n",
       " {'name': 'Greenfield Online'},\n",
       " {'name': 'Webedia'},\n",
       " {'name': 'Wayfinder'},\n",
       " {'name': 'Tuenti Technologies'},\n",
       " {'name': 'BioMed Central'}]"
      ]
     },
     "execution_count": 106,
     "metadata": {},
     "output_type": "execute_result"
    }
   ],
   "source": [
    "condition_1 = {\"acquisition.price_amount\": {\"$gte\":10000000}} \n",
    "condition_2 = {\"acquisition.price_currency_code\": \"EUR\"}\n",
    "\n",
    "projection = {\"_id\": 0, \"name\": 1}\n",
    "\n",
    "results = c.find({\"$and\": [condition_1, condition_2]}, projection).limit(10)\n",
    "\n",
    "no_dups = []\n",
    "for i in results:\n",
    "    if i not in no_dups:\n",
    "        no_dups.append(i)\n",
    "\n",
    "no_dups"
   ]
  },
  {
   "cell_type": "markdown",
   "metadata": {},
   "source": [
    "### 18. All the companies that have been acquired on the first trimester of the year. Limit the search to 10 companies, and retrieve only their `name` and `acquisition` fields."
   ]
  },
  {
   "cell_type": "code",
   "execution_count": 114,
   "metadata": {},
   "outputs": [
    {
     "data": {
      "text/plain": [
       "[{'name': 'Sun Microsystems',\n",
       "  'acquisition': {'price_amount': 7400000000.0,\n",
       "   'price_currency_code': 'USD',\n",
       "   'term_code': 'cash',\n",
       "   'source_url': 'http://www.techcrunch.com/2009/04/20/oracle-to-buy-sun-hold-on-to-your-hats/',\n",
       "   'source_description': 'Oracle To Buy Sun For Approximately $7.4 Billion - Hold On To Your Hats',\n",
       "   'acquired_year': 2009,\n",
       "   'acquired_month': 4,\n",
       "   'acquired_day': 20,\n",
       "   'acquiring_company': {'name': 'Oracle Corporation',\n",
       "    'permalink': 'oracle'}}},\n",
       " {'name': 'Siebel Systems',\n",
       "  'acquisition': {'price_amount': 5850000000.0,\n",
       "   'price_currency_code': 'USD',\n",
       "   'term_code': 'stock',\n",
       "   'source_url': 'http://www.oracle.com/corporate/press/2006_jan/sieb_cl.html',\n",
       "   'source_description': 'Oracle Agrees to Buy Siebel for $10.66 a Share  ',\n",
       "   'acquired_year': 2006,\n",
       "   'acquired_month': 1,\n",
       "   'acquired_day': 31,\n",
       "   'acquiring_company': {'name': 'Oracle Corporation',\n",
       "    'permalink': 'oracle'}}},\n",
       " {'name': 'Netscape',\n",
       "  'acquisition': {'price_amount': 4200000000.0,\n",
       "   'price_currency_code': 'USD',\n",
       "   'term_code': 'stock',\n",
       "   'source_url': 'http://news.cnet.com/2100-1023-218360.html',\n",
       "   'source_description': 'AOL buys Netscape for $4.2 billion',\n",
       "   'acquired_year': 1998,\n",
       "   'acquired_month': 11,\n",
       "   'acquired_day': 28,\n",
       "   'acquiring_company': {'name': 'AOL', 'permalink': 'aol'}}},\n",
       " {'name': 'YouTube',\n",
       "  'acquisition': {'price_amount': 1650000000,\n",
       "   'price_currency_code': 'USD',\n",
       "   'term_code': 'stock',\n",
       "   'source_url': 'http://www.techcrunch.com/2006/10/09/google-has-acquired-youtube/',\n",
       "   'source_description': 'Google has acquired YouTube',\n",
       "   'acquired_year': 2006,\n",
       "   'acquired_month': 10,\n",
       "   'acquired_day': None,\n",
       "   'acquiring_company': {'name': 'Google', 'permalink': 'google'}}},\n",
       " {'name': 'Zappos',\n",
       "  'acquisition': {'price_amount': 1200000000,\n",
       "   'price_currency_code': 'USD',\n",
       "   'term_code': 'stock',\n",
       "   'source_url': 'http://techcrunch.com/2009/07/22/amazon-buys-zappos/',\n",
       "   'source_description': 'TechCrunch: Amazon Buys Zappos',\n",
       "   'acquired_year': 2009,\n",
       "   'acquired_month': 7,\n",
       "   'acquired_day': 22,\n",
       "   'acquiring_company': {'name': 'Amazon', 'permalink': 'amazon'}}},\n",
       " {'name': 'Meraki',\n",
       "  'acquisition': {'price_amount': 1200000000,\n",
       "   'price_currency_code': 'USD',\n",
       "   'term_code': None,\n",
       "   'source_url': 'http://techcrunch.com/2012/11/18/cisco-acquires-enterprise-wi-fi-startup-meraki-for-1-2-billion-in-cash/',\n",
       "   'source_description': 'Cisco Acquires Enterprise Wi-Fi Startup Meraki For $1.2 Billion In Cash',\n",
       "   'acquired_year': 2012,\n",
       "   'acquired_month': 11,\n",
       "   'acquired_day': 20,\n",
       "   'acquiring_company': {'name': 'Cisco', 'permalink': 'cisco'}}},\n",
       " {'name': 'Tumblr',\n",
       "  'acquisition': {'price_amount': 1100000000,\n",
       "   'price_currency_code': 'USD',\n",
       "   'term_code': None,\n",
       "   'source_url': 'http://techcrunch.com/2013/05/20/its-official-yahoo-is-buying-tumblr-for-1-1b-promises-to-keep-it-independent/',\n",
       "   'source_description': 'It’s Official: Yahoo Is Buying Tumblr For $1.1B, Vows To Keep It Independent',\n",
       "   'acquired_year': 2013,\n",
       "   'acquired_month': 5,\n",
       "   'acquired_day': 20,\n",
       "   'acquiring_company': {'name': 'Yahoo!', 'permalink': 'yahoo'}}},\n",
       " {'name': 'Kiva Systems',\n",
       "  'acquisition': {'price_amount': 775000000,\n",
       "   'price_currency_code': 'USD',\n",
       "   'term_code': 'cash',\n",
       "   'source_url': 'http://venturebeat.com/2012/03/19/amazon-buys-kiva-systems/?utm_source=feedburner&utm_medium=feed&utm_campaign=Feed%3A+Venturebeat_deals+%28VentureBeat+%C2%BB+Deals+%26+More%29',\n",
       "   'source_description': 'Amazon buys Kiva Systems for $775M — prepare for even smarter warehouses',\n",
       "   'acquired_year': 2012,\n",
       "   'acquired_month': 3,\n",
       "   'acquired_day': 19,\n",
       "   'acquiring_company': {'name': 'Amazon', 'permalink': 'amazon'}}},\n",
       " {'name': 'Playdom',\n",
       "  'acquisition': {'price_amount': 763200000,\n",
       "   'price_currency_code': 'USD',\n",
       "   'term_code': None,\n",
       "   'source_url': 'http://techcrunch.com/2010/07/27/playdom-acquired-by-disney-for-up-to-763-2-million/',\n",
       "   'source_description': '',\n",
       "   'acquired_year': 2010,\n",
       "   'acquired_month': 7,\n",
       "   'acquired_day': 27,\n",
       "   'acquiring_company': {'name': 'The Walt Disney Company',\n",
       "    'permalink': 'the-walt-disney-company'}}},\n",
       " {'name': 'SonicWALL',\n",
       "  'acquisition': {'price_amount': 717000000,\n",
       "   'price_currency_code': 'USD',\n",
       "   'term_code': None,\n",
       "   'source_url': 'http://www.silicontap.com/sonicwall_acquired_by_private_equity_group_for_7_7m/s-0028973.html',\n",
       "   'source_description': 'SonicWALL Acquired By Private Equity Group For $717M',\n",
       "   'acquired_year': 2010,\n",
       "   'acquired_month': 6,\n",
       "   'acquired_day': 22,\n",
       "   'acquiring_company': {'name': 'Private equity group',\n",
       "    'permalink': 'private-equity-group'}}}]"
      ]
     },
     "execution_count": 114,
     "metadata": {},
     "output_type": "execute_result"
    }
   ],
   "source": [
    "filter_1 = {\n",
    "    \"founded_month\": {\"$gte\": 1, \"$lte\": 4}\n",
    "}\n",
    "\n",
    "projection = {\"_id\": 0, \"name\": 1, \"acquisition\": 1}\n",
    "\n",
    "results = c.find(filter_1, projection).sort(\"acquisition\", -1).limit(10)\n",
    "\n",
    "no_dups = []\n",
    "for i in results:\n",
    "    if i not in no_dups:\n",
    "        no_dups.append(i)\n",
    "\n",
    "no_dups"
   ]
  },
  {
   "cell_type": "markdown",
   "metadata": {},
   "source": [
    "# Bonus\n",
    "### 19. All the companies that have been founded between 2000 and 2010, but have not been acquired before 2011."
   ]
  },
  {
   "cell_type": "code",
   "execution_count": null,
   "metadata": {},
   "outputs": [],
   "source": [
    "# Your Code"
   ]
  },
  {
   "cell_type": "markdown",
   "metadata": {},
   "source": [
    "### 20. All the companies that have been 'deadpooled' after the third year."
   ]
  },
  {
   "cell_type": "code",
   "execution_count": null,
   "metadata": {},
   "outputs": [],
   "source": [
    "# Your Code"
   ]
  },
  {
   "cell_type": "markdown",
   "metadata": {},
   "source": [
    "**⚠️ Did you do this?**\n",
    "\n",
    "```python\n",
    "list(collection.find(query))[:5] #or a reasonably low number\n",
    "```"
   ]
  }
 ],
 "metadata": {
  "kernelspec": {
   "display_name": "ironhack",
   "language": "python",
   "name": "ironhack"
  },
  "language_info": {
   "codemirror_mode": {
    "name": "ipython",
    "version": 3
   },
   "file_extension": ".py",
   "mimetype": "text/x-python",
   "name": "python",
   "nbconvert_exporter": "python",
   "pygments_lexer": "ipython3",
   "version": "3.11.5"
  },
  "toc": {
   "base_numbering": 1,
   "nav_menu": {},
   "number_sections": true,
   "sideBar": true,
   "skip_h1_title": false,
   "title_cell": "Table of Contents",
   "title_sidebar": "Contents",
   "toc_cell": false,
   "toc_position": {},
   "toc_section_display": true,
   "toc_window_display": true
  }
 },
 "nbformat": 4,
 "nbformat_minor": 2
}
