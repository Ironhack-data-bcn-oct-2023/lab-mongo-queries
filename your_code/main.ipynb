{
 "cells": [
  {
   "cell_type": "markdown",
   "metadata": {},
   "source": [
    "# Advanced Querying Mongo"
   ]
  },
  {
   "cell_type": "markdown",
   "metadata": {},
   "source": [
    "**⚠️ IMPORTANT: Limit your print to avoid infinite scrolling. Otherwise your\n",
    "code will be lost between print lines. If working with lists do:**\n",
    "\n",
    "```python\n",
    "list(collection.find(query))[:5] #or a reasonably low number\n",
    "```"
   ]
  },
  {
   "cell_type": "markdown",
   "metadata": {},
   "source": [
    "Importing libraries and setting up connection"
   ]
  },
  {
   "cell_type": "code",
   "execution_count": 2,
   "metadata": {},
   "outputs": [],
   "source": [
    "# from pymongo import MongoClient\n",
    "# client = MongoClient(\"\")\n",
    "from pymongo import MongoClient\n",
    "import pandas as pd\n",
    "import time\n",
    "client = MongoClient(\"localhost:27017\")"
   ]
  },
  {
   "cell_type": "code",
   "execution_count": 6,
   "metadata": {},
   "outputs": [
    {
     "data": {
      "text/plain": [
       "MongoClient(host=['localhost:27017'], document_class=dict, tz_aware=False, connect=True)"
      ]
     },
     "execution_count": 6,
     "metadata": {},
     "output_type": "execute_result"
    }
   ],
   "source": [
    "client"
   ]
  },
  {
   "cell_type": "code",
   "execution_count": 7,
   "metadata": {},
   "outputs": [
    {
     "data": {
      "text/plain": [
       "['admin', 'config', 'ironhack', 'local']"
      ]
     },
     "execution_count": 7,
     "metadata": {},
     "output_type": "execute_result"
    }
   ],
   "source": [
    "client.list_database_names()"
   ]
  },
  {
   "cell_type": "code",
   "execution_count": 16,
   "metadata": {},
   "outputs": [],
   "source": [
    "db = client[\"ironhack\"]"
   ]
  },
  {
   "cell_type": "code",
   "execution_count": 17,
   "metadata": {},
   "outputs": [],
   "source": [
    "c = db.get_collection(\"companies\")"
   ]
  },
  {
   "cell_type": "markdown",
   "metadata": {},
   "source": [
    "### 1. All the companies whose name match 'Babelgum'. Retrieve only their `name` field."
   ]
  },
  {
   "cell_type": "code",
   "execution_count": 33,
   "metadata": {},
   "outputs": [
    {
     "data": {
      "text/plain": [
       "[{'name': 'Babelgum'}]"
      ]
     },
     "execution_count": 33,
     "metadata": {},
     "output_type": "execute_result"
    }
   ],
   "source": [
    "list(c.find({\"name\": 'Babelgum'}, {\"name\": 1, \"_id\": 0}))"
   ]
  },
  {
   "cell_type": "code",
   "execution_count": 29,
   "metadata": {},
   "outputs": [
    {
     "data": {
      "text/plain": [
       "[{'_id': ObjectId('52cdef7c4bab8bd675297da0'),\n",
       "  'name': 'Babelgum',\n",
       "  'permalink': 'babelgum',\n",
       "  'crunchbase_url': 'http://www.crunchbase.com/company/babelgum',\n",
       "  'homepage_url': 'http://babelgum.com',\n",
       "  'blog_url': 'http://babelgum.com/blog',\n",
       "  'blog_feed_url': 'http://feeds.feedburner.com/Babelgum',\n",
       "  'twitter_username': 'Babelgum',\n",
       "  'category_code': 'games_video',\n",
       "  'number_of_employees': None,\n",
       "  'founded_year': 2007,\n",
       "  'founded_month': 3,\n",
       "  'founded_day': 1,\n",
       "  'deadpooled_year': 2013,\n",
       "  'deadpooled_month': 1,\n",
       "  'deadpooled_day': 9,\n",
       "  'deadpooled_url': '',\n",
       "  'tag_list': 'iptv, web2ireland',\n",
       "  'alias_list': '',\n",
       "  'email_address': 'info@babelgum.com',\n",
       "  'phone_number': '',\n",
       "  'description': '',\n",
       "  'created_at': 'Sat Jun 09 08:15:21 UTC 2007',\n",
       "  'updated_at': 'Wed Oct 16 06:30:25 UTC 2013',\n",
       "  'overview': '<p>Babelgum is an integrated web and mobile video content platform, free for users and supported by advertising, available on-demand to a global audience.</p>\\n\\n<p>On March 20th 2009 Babelgum released a U.S. version of its mobile video application for iPhone and iPod Touch (previously available in Italy and the UK) and simultaneously launched a redesigned website (www.babelgum.com) with a Flash-based player, offering one of the first fully integrated video mobile and web user experiences.</p>\\n\\n<p>Babelgum Mobile is currently available in the United States, UK, Italy, Germany, France and Spain and over 50 other countries across the globe on iPhone 3G, iPod Touch, Google Android G-Phones 1 and 2, Nokia (N96, N95 and 6210) via 3G and WiFi.</p>\\n\\n<p>Babelgum is an independent and privately held company with offices in the United States, UK, Ireland, France and Italy.</p>\\n\\n<p>TRAFFIC FIGURES</p>\\n\\n<p>In July 2009 Babelgum recorded on its website over 2 million monthly unique users worldwide â€“ 1.7 million in the US alone (Source: comScore). Over 2 million people have downloaded the Babelgum mobile applications and watched videos on them.</p>\\n\\n<p>DEVELOPMENT STRATEGY</p>\\n\\n<p>In Europe, Babelgum made a strategic agreement with Vodafone to launch a mobile service that allows users to watch videos for free also over 3G networks (Vodafone supports marketing campaigns through SMS and other PR activities targeting their Customer Base). Babelgum is also seeking selected strategic partnerships in the United States.</p>\\n\\n<p>BABELGUMâ€™S EDITORIAL APPROACH TO CONTENT</p>\\n\\n<p>Positioned between user generated video hubs and network TV-oriented destinations, Babelgum has a unique editorial approach which focuses on the third part of the ecosystem: innovative, professionally produced content on very specific passions curated by experts in their fields. </p>\\n\\n<p>The editorial team is driven by professional publishers who scout and select programming for the following channels: Music, Comedy, Film, Our Earth (dedicated to nature and the environment) and Metropolis (all about urban culture and trends). </p>\\n\\n<p>The mobile and web platforms are integrated functionally and graphically and complement each other, although mobile programming is more carefully tailored to local markets, based on research into national tastes and viewing habits. </p>\\n\\n<p>Babelgumâ€™s content comprises independent and mainstream programming as well as exclusive original productions.</p>\\n\\n<p>LIST OF MAIN CONTENT PROVIDERS:</p>\\n\\n<p>Babelgumâ€™s content partners include, among others, EMI, Sony BMG, the New York Times, PBS, BBC, VBS, Lonely Planet, Coolhunting, National Geographic, Funny or Die, T5M, Shine Limited, Cinetic Rights Management, Content Republic, Gong Anime, The Workbook Project, Cinelan, Power to the Pixel and Off the Fence as well as the Seattle, Encounters, Los Angeles, and Hamptons film festivals.</p>\\n\\n<p>ONLINE VIDEO COMPETITIONS:</p>\\n\\n<p>The company has also set up a series of online contests to nurture independent film, music and art talent: the Babelgum Online Film Festival, the Babelgum Music Video Awards and the Babelgum Metropolis Art Prize chaired respectively by Spike Lee, Michel Gondry and Isabella Rossellini.</p>',\n",
       "  'image': {'available_sizes': [[[135, 102],\n",
       "     'assets/images/resized/0006/7738/67738v2-max-150x150.png'],\n",
       "    [[135, 102], 'assets/images/resized/0006/7738/67738v2-max-250x250.png'],\n",
       "    [[135, 102], 'assets/images/resized/0006/7738/67738v2-max-450x450.png']],\n",
       "   'attribution': None},\n",
       "  'products': [{'name': 'Babelgum', 'permalink': 'babelgum'}],\n",
       "  'relationships': [{'is_past': False,\n",
       "    'title': 'CEO',\n",
       "    'person': {'first_name': 'Valerio',\n",
       "     'last_name': 'Zingarelli',\n",
       "     'permalink': 'valerio-zingarelli'}},\n",
       "   {'is_past': True,\n",
       "    'title': 'CTO',\n",
       "    'person': {'first_name': 'Mallku',\n",
       "     'last_name': 'Caballero',\n",
       "     'permalink': 'mallku-caballero'}},\n",
       "   {'is_past': True,\n",
       "    'title': '',\n",
       "    'person': {'first_name': 'Michael',\n",
       "     'last_name': \"O'Callaghan\",\n",
       "     'permalink': 'michael-o-callaghan'}},\n",
       "   {'is_past': True,\n",
       "    'title': '',\n",
       "    'person': {'first_name': 'Erik',\n",
       "     'last_name': 'Lumer',\n",
       "     'permalink': 'erik-lumer'}},\n",
       "   {'is_past': True,\n",
       "    'title': 'Engineering Director',\n",
       "    'person': {'first_name': 'Mark',\n",
       "     'last_name': 'Kearns',\n",
       "     'permalink': 'mark-kearns'}}],\n",
       "  'competitions': [{'competitor': {'name': 'Joost', 'permalink': 'joost'}},\n",
       "   {'competitor': {'name': 'Zattoo', 'permalink': 'zattoo'}},\n",
       "   {'competitor': {'name': 'Veoh', 'permalink': 'veoh'}},\n",
       "   {'competitor': {'name': 'Vudu', 'permalink': 'vudu'}},\n",
       "   {'competitor': {'name': 'Inuk Networks', 'permalink': 'inuk-networks'}},\n",
       "   {'competitor': {'name': 'Participatory Culture Foundation',\n",
       "     'permalink': 'participatory-culture-foundation'}},\n",
       "   {'competitor': {'name': 'Next New Networks',\n",
       "     'permalink': 'next-new-networks'}}],\n",
       "  'providerships': [],\n",
       "  'total_money_raised': '$13.2M',\n",
       "  'funding_rounds': [{'id': 17,\n",
       "    'round_code': 'a',\n",
       "    'source_url': 'http://www.redherring.com/Article.aspx?a=21800&hed=Battle+of+the+Billionaires&sector=Regions&subsector=Europe',\n",
       "    'source_description': '',\n",
       "    'raised_amount': 13200000,\n",
       "    'raised_currency_code': 'USD',\n",
       "    'funded_year': 2005,\n",
       "    'funded_month': 6,\n",
       "    'funded_day': 1,\n",
       "    'investments': [{'company': None,\n",
       "      'financial_org': None,\n",
       "      'person': {'first_name': 'Silvio',\n",
       "       'last_name': 'Scaglia',\n",
       "       'permalink': 'silvio-scaglia'}}]}],\n",
       "  'investments': [],\n",
       "  'acquisition': None,\n",
       "  'acquisitions': [],\n",
       "  'offices': [{'description': '',\n",
       "    'address1': '',\n",
       "    'address2': '',\n",
       "    'zip_code': '',\n",
       "    'city': 'London',\n",
       "    'state_code': None,\n",
       "    'country_code': 'GBR',\n",
       "    'latitude': 53.344104,\n",
       "    'longitude': -6.267494}],\n",
       "  'milestones': [],\n",
       "  'ipo': None,\n",
       "  'video_embeds': [],\n",
       "  'screenshots': [],\n",
       "  'external_links': [],\n",
       "  'partners': []}]"
      ]
     },
     "execution_count": 29,
     "metadata": {},
     "output_type": "execute_result"
    }
   ],
   "source": [
    "list(c.find({\"name\": 'Babelgum'}))"
   ]
  },
  {
   "cell_type": "markdown",
   "metadata": {},
   "source": [
    "### 2. All the companies that have more than 5000 employees. Limit the search to 20 companies and sort them by **number of employees**."
   ]
  },
  {
   "cell_type": "code",
   "execution_count": 60,
   "metadata": {},
   "outputs": [
    {
     "data": {
      "text/plain": [
       "[{'name': 'Nintendo', 'number_of_employees': 5080},\n",
       " {'name': 'Hexaware Technologies', 'number_of_employees': 5200},\n",
       " {'name': 'Facebook', 'number_of_employees': 5299},\n",
       " {'name': 'OpenText', 'number_of_employees': 5300},\n",
       " {'name': 'LSI', 'number_of_employees': 5400},\n",
       " {'name': 'CPM Braxis', 'number_of_employees': 5400},\n",
       " {'name': 'Microchip Technologies', 'number_of_employees': 5500},\n",
       " {'name': 'Mediaset', 'number_of_employees': 5729},\n",
       " {'name': 'Mindray Medical International', 'number_of_employees': 5763},\n",
       " {'name': 'Baidu', 'number_of_employees': 6000},\n",
       " {'name': 'Dentsu', 'number_of_employees': 6000},\n",
       " {'name': 'Tata Communications', 'number_of_employees': 6000},\n",
       " {'name': 'Atmel', 'number_of_employees': 6000},\n",
       " {'name': 'Acxiom', 'number_of_employees': 6200},\n",
       " {'name': 'Acxiom', 'number_of_employees': 6200},\n",
       " {'name': 'SRA International', 'number_of_employees': 6400},\n",
       " {'name': \"Moody's\", 'number_of_employees': 6800},\n",
       " {'name': 'ManTech', 'number_of_employees': 7000},\n",
       " {'name': 'Adobe Systems', 'number_of_employees': 7173},\n",
       " {'name': 'Broadcom', 'number_of_employees': 7400}]"
      ]
     },
     "execution_count": 60,
     "metadata": {},
     "output_type": "execute_result"
    }
   ],
   "source": [
    "query = {\"number_of_employees\": {\"$gt\": 5000}}\n",
    "projection = {\"_id\":0, \"name\":1, \"number_of_employees\": 1}\n",
    "list(c.find(query, projection).sort(\"number_of_employees\", 1).limit(20))"
   ]
  },
  {
   "cell_type": "markdown",
   "metadata": {},
   "source": [
    "### 3. All the companies founded between 2000 and 2005, both years included. Retrieve only the `name` and `founded_year` fields."
   ]
  },
  {
   "cell_type": "code",
   "execution_count": 140,
   "metadata": {},
   "outputs": [
    {
     "data": {
      "text/plain": [
       "[{'name': 'Wetpaint', 'founded_year': 2005},\n",
       " {'name': 'Zoho', 'founded_year': 2005},\n",
       " {'name': 'Digg', 'founded_year': 2004},\n",
       " {'name': 'Facebook', 'founded_year': 2004},\n",
       " {'name': 'Omnidrive', 'founded_year': 2005}]"
      ]
     },
     "execution_count": 140,
     "metadata": {},
     "output_type": "execute_result"
    }
   ],
   "source": [
    "query = {\"founded_year\": {\"$gte\": 2000, \"$lte\": 2005}}\n",
    "projection = {\"_id\":0, \"name\":1, \"founded_year\": 1}\n",
    "list(c.find(query, projection)) [:5]"
   ]
  },
  {
   "cell_type": "markdown",
   "metadata": {},
   "source": [
    "### 4. All the companies that had a Valuation Amount of more than 100.000.000 and have been founded before 2010. Retrieve only the `name` and `ipo` fields."
   ]
  },
  {
   "cell_type": "code",
   "execution_count": 141,
   "metadata": {},
   "outputs": [
    {
     "data": {
      "text/plain": [
       "[{'name': 'Facebook', 'ipo': {'valuation_amount': 104000000000.0}},\n",
       " {'name': 'Twitter', 'ipo': {'valuation_amount': 18100000000.0}},\n",
       " {'name': 'Yelp', 'ipo': {'valuation_amount': 1300000000}},\n",
       " {'name': 'LinkedIn', 'ipo': {'valuation_amount': 9310000000.0}},\n",
       " {'name': 'Amazon', 'ipo': {'valuation_amount': 100000000000.0}}]"
      ]
     },
     "execution_count": 141,
     "metadata": {},
     "output_type": "execute_result"
    }
   ],
   "source": [
    "filters1 = {\"founded_year\": {\"$lte\": 2010}, \"ipo.valuation_amount\": {\"$gte\": 100000000}}\n",
    "projection = {\"_id\":0, \"name\":1, \"ipo.valuation_amount\": 1}\n",
    "list(c.find(filters1, projection)) [:5]"
   ]
  },
  {
   "cell_type": "markdown",
   "metadata": {},
   "source": [
    "### 5. All the companies that have less than 1000 employees and have been founded before 2005. Order them by the number of employees and limit the search to 10 companies."
   ]
  },
  {
   "cell_type": "code",
   "execution_count": 76,
   "metadata": {},
   "outputs": [
    {
     "data": {
      "text/plain": [
       "[{'name': 'Infinera Corporation',\n",
       "  'number_of_employees': 974,\n",
       "  'founded_year': 2000},\n",
       " {'name': 'Box', 'number_of_employees': 950, 'founded_year': 2005},\n",
       " {'name': 'NorthPoint Communications Group',\n",
       "  'number_of_employees': 948,\n",
       "  'founded_year': 1997},\n",
       " {'name': '888 Holdings', 'number_of_employees': 931, 'founded_year': 1997},\n",
       " {'name': 'Forrester Research',\n",
       "  'number_of_employees': 903,\n",
       "  'founded_year': 1983},\n",
       " {'name': 'SonicWALL', 'number_of_employees': 900, 'founded_year': 1991},\n",
       " {'name': 'Webmetrics', 'number_of_employees': 900, 'founded_year': 1999},\n",
       " {'name': 'Workday', 'number_of_employees': 900, 'founded_year': 2005},\n",
       " {'name': 'Cornerstone OnDemand',\n",
       "  'number_of_employees': 881,\n",
       "  'founded_year': 1999},\n",
       " {'name': 'Mozilla', 'number_of_employees': 800, 'founded_year': 1998}]"
      ]
     },
     "execution_count": 76,
     "metadata": {},
     "output_type": "execute_result"
    }
   ],
   "source": [
    "filters1 = {\"founded_year\": {\"$lte\": 2005}, \"number_of_employees\": {\"$lt\": 1000}}\n",
    "projection = {\"_id\":0, \"name\":1, \"number_of_employees\": 1, \"founded_year\": 1}\n",
    "list(c.find(filters1, projection).sort(\"number_of_employees\", -1).limit(10))"
   ]
  },
  {
   "cell_type": "markdown",
   "metadata": {},
   "source": [
    "### 6. All the companies that don't include the `partners` field."
   ]
  },
  {
   "cell_type": "code",
   "execution_count": 142,
   "metadata": {},
   "outputs": [
    {
     "data": {
      "text/plain": [
       "[{'name': 'Wetpaint'},\n",
       " {'name': 'AdventNet'},\n",
       " {'name': 'Zoho'},\n",
       " {'name': 'Digg'},\n",
       " {'name': 'Facebook'}]"
      ]
     },
     "execution_count": 142,
     "metadata": {},
     "output_type": "execute_result"
    }
   ],
   "source": [
    "query = {\"partners\": {\"$exists\": \"False\"}}\n",
    "projection = {\"_id\":0, \"name\":1}\n",
    "list(c.find(query, projection)) [:5]"
   ]
  },
  {
   "cell_type": "markdown",
   "metadata": {},
   "source": [
    "### 7. All the companies that have a null type of value on the `category_code` field."
   ]
  },
  {
   "cell_type": "code",
   "execution_count": 143,
   "metadata": {},
   "outputs": [
    {
     "data": {
      "text/plain": [
       "[{'name': 'Collective'},\n",
       " {'name': 'Snimmer'},\n",
       " {'name': 'KoolIM'},\n",
       " {'name': 'Level9 Media'},\n",
       " {'name': 'VidKing'}]"
      ]
     },
     "execution_count": 143,
     "metadata": {},
     "output_type": "execute_result"
    }
   ],
   "source": [
    "query = {\"category_code\": {\"$type\": 10}}\n",
    "projection = {\"_id\":0, \"name\":1}\n",
    "list(c.find(query, projection)) [:5]"
   ]
  },
  {
   "cell_type": "markdown",
   "metadata": {},
   "source": [
    "### 8. All the companies that have at least 100 employees but less than 1000. Retrieve only the `name` and `number of employees` fields."
   ]
  },
  {
   "cell_type": "code",
   "execution_count": 144,
   "metadata": {},
   "outputs": [
    {
     "data": {
      "text/plain": [
       "[{'name': 'AdventNet', 'number_of_employees': 600},\n",
       " {'name': 'AddThis', 'number_of_employees': 120},\n",
       " {'name': 'OpenX', 'number_of_employees': 305},\n",
       " {'name': 'LifeLock', 'number_of_employees': 644},\n",
       " {'name': 'Jajah', 'number_of_employees': 110}]"
      ]
     },
     "execution_count": 144,
     "metadata": {},
     "output_type": "execute_result"
    }
   ],
   "source": [
    "query = {\"number_of_employees\": {\"$gte\": 100, \"$lte\": 1000}}\n",
    "projection = {\"_id\":0, \"name\":1, \"number_of_employees\": 1}\n",
    "list(c.find(query, projection)) [:5]"
   ]
  },
  {
   "cell_type": "markdown",
   "metadata": {},
   "source": [
    "### 9. Order all the companies by their IPO price in a descending order."
   ]
  },
  {
   "cell_type": "code",
   "execution_count": 145,
   "metadata": {},
   "outputs": [
    {
     "data": {
      "text/plain": [
       "[{'name': 'GREE', 'ipo': {'valuation_amount': 108960000000.0}},\n",
       " {'name': 'Facebook', 'ipo': {'valuation_amount': 104000000000.0}},\n",
       " {'name': 'Amazon', 'ipo': {'valuation_amount': 100000000000.0}},\n",
       " {'name': 'Twitter', 'ipo': {'valuation_amount': 18100000000.0}},\n",
       " {'name': 'Groupon', 'ipo': {'valuation_amount': 12800000000.0}}]"
      ]
     },
     "execution_count": 145,
     "metadata": {},
     "output_type": "execute_result"
    }
   ],
   "source": [
    "filters1 = {\"ipo.valuation_amount\": {\"$exists\": True}}\n",
    "projection = {\"_id\":0, \"name\":1, \"ipo.valuation_amount\": 1}\n",
    "list(c.find(filters1, projection).sort(\"ipo.valuation_amount\", -1)) [:5]"
   ]
  },
  {
   "cell_type": "markdown",
   "metadata": {},
   "source": [
    "### 10. Retrieve the 10 companies with more employees, order by the `number of employees`"
   ]
  },
  {
   "cell_type": "code",
   "execution_count": 109,
   "metadata": {},
   "outputs": [
    {
     "data": {
      "text/plain": [
       "[{'name': 'Siemens', 'number_of_employees': 405000},\n",
       " {'name': 'IBM', 'number_of_employees': 388000},\n",
       " {'name': 'Toyota', 'number_of_employees': 320000},\n",
       " {'name': 'PayPal', 'number_of_employees': 300000},\n",
       " {'name': 'Nippon Telegraph and Telephone Corporation',\n",
       "  'number_of_employees': 227000},\n",
       " {'name': 'Samsung Electronics', 'number_of_employees': 221726},\n",
       " {'name': 'Accenture', 'number_of_employees': 205000},\n",
       " {'name': 'Tata Consultancy Services', 'number_of_employees': 200300},\n",
       " {'name': 'Flextronics International', 'number_of_employees': 200000},\n",
       " {'name': 'Safeway', 'number_of_employees': 186000}]"
      ]
     },
     "execution_count": 109,
     "metadata": {},
     "output_type": "execute_result"
    }
   ],
   "source": [
    "query = {\"number_of_employees\": {\"$exists\": True}}\n",
    "projection = {\"_id\":0, \"name\":1, \"number_of_employees\": 1}\n",
    "list(c.find(query, projection).sort(\"number_of_employees\", -1).limit(10))"
   ]
  },
  {
   "cell_type": "markdown",
   "metadata": {},
   "source": [
    "### 11. All the companies founded on the second semester of the year. Limit your search to 1000 companies."
   ]
  },
  {
   "cell_type": "code",
   "execution_count": 146,
   "metadata": {},
   "outputs": [
    {
     "data": {
      "text/plain": [
       "[{'name': 'Wetpaint', 'founded_month': 10},\n",
       " {'name': 'Zoho', 'founded_month': 9},\n",
       " {'name': 'Digg', 'founded_month': 10},\n",
       " {'name': 'Omnidrive', 'founded_month': 11},\n",
       " {'name': 'eBay', 'founded_month': 9}]"
      ]
     },
     "execution_count": 146,
     "metadata": {},
     "output_type": "execute_result"
    }
   ],
   "source": [
    "query = {\"founded_month\": {\"$gte\": 7, \"$lte\": 12}}\n",
    "projection = {\"_id\":0, \"name\":1, \"founded_month\": 1}\n",
    "list(c.find(query, projection).limit(1000)) [:5]"
   ]
  },
  {
   "cell_type": "markdown",
   "metadata": {},
   "source": [
    "### 12. All the companies founded before 2000 that have an acquisition amount of more than 10.000.000"
   ]
  },
  {
   "cell_type": "code",
   "execution_count": 126,
   "metadata": {},
   "outputs": [
    {
     "data": {
      "text/plain": [
       "[{'name': 'Postini',\n",
       "  'founded_year': 1999,\n",
       "  'acquisition': {'price_amount': 625000000}},\n",
       " {'name': 'SideStep',\n",
       "  'founded_year': 1999,\n",
       "  'acquisition': {'price_amount': 180000000}},\n",
       " {'name': 'Recipezaar',\n",
       "  'founded_year': 1999,\n",
       "  'acquisition': {'price_amount': 25000000}},\n",
       " {'name': 'PayPal',\n",
       "  'founded_year': 1998,\n",
       "  'acquisition': {'price_amount': 1500000000}},\n",
       " {'name': 'Snapfish',\n",
       "  'founded_year': 1999,\n",
       "  'acquisition': {'price_amount': 300000000}}]"
      ]
     },
     "execution_count": 126,
     "metadata": {},
     "output_type": "execute_result"
    }
   ],
   "source": [
    "filters1 = {\"founded_year\": {\"$lt\": 2000}, \"acquisition.price_amount\": {\"$gt\": 10000000}}\n",
    "projection = {\"_id\":0, \"name\":1, \"founded_year\": 1, \"acquisition.price_amount\":1}\n",
    "list(c.find(filters1, projection).limit(5))"
   ]
  },
  {
   "cell_type": "markdown",
   "metadata": {},
   "source": [
    "### 13. All the companies that have been acquired after 2010, order by the acquisition amount, and retrieve only their `name` and `acquisition` field."
   ]
  },
  {
   "cell_type": "code",
   "execution_count": 147,
   "metadata": {},
   "outputs": [
    {
     "data": {
      "text/plain": [
       "[{'name': 'Kyte', 'acquisition': {'acquired_year': 2011}},\n",
       " {'name': 'Jingle Networks', 'acquisition': {'acquired_year': 2011}},\n",
       " {'name': 'delicious', 'acquisition': {'acquired_year': 2011}},\n",
       " {'name': 'Instructables', 'acquisition': {'acquired_year': 2011}},\n",
       " {'name': 'Dogster', 'acquisition': {'acquired_year': 2011}}]"
      ]
     },
     "execution_count": 147,
     "metadata": {},
     "output_type": "execute_result"
    }
   ],
   "source": [
    "filters1 = {\"acquisition.acquired_year\": {\"$gt\": 2010}}\n",
    "projection = {\"_id\":0, \"name\":1, \"acquisition.acquired_year\":1}\n",
    "list(c.find(filters1, projection).sort(\"acquisition.acquired_year\", 1)) [:5]"
   ]
  },
  {
   "cell_type": "markdown",
   "metadata": {},
   "source": [
    "### 14. Order the companies by their `founded year`, retrieving only their `name` and `founded year`."
   ]
  },
  {
   "cell_type": "code",
   "execution_count": 125,
   "metadata": {},
   "outputs": [
    {
     "data": {
      "text/plain": [
       "[{'name': 'Postini',\n",
       "  'founded_year': 1999,\n",
       "  'acquisition': {'price_amount': 625000000}},\n",
       " {'name': 'SideStep',\n",
       "  'founded_year': 1999,\n",
       "  'acquisition': {'price_amount': 180000000}},\n",
       " {'name': 'Recipezaar',\n",
       "  'founded_year': 1999,\n",
       "  'acquisition': {'price_amount': 25000000}},\n",
       " {'name': 'PayPal',\n",
       "  'founded_year': 1998,\n",
       "  'acquisition': {'price_amount': 1500000000}},\n",
       " {'name': 'Snapfish',\n",
       "  'founded_year': 1999,\n",
       "  'acquisition': {'price_amount': 300000000}}]"
      ]
     },
     "execution_count": 125,
     "metadata": {},
     "output_type": "execute_result"
    }
   ],
   "source": [
    "filters1 = {\"founded_year\": {\"$exists\": True}}\n",
    "projection = {\"_id\":0, \"name\":1, \"founded_year\": 1}\n",
    "list(c.find(filters1, projection).sort(\"founded_year\", -1))"
   ]
  },
  {
   "cell_type": "markdown",
   "metadata": {},
   "source": [
    "### 15. All the companies that have been founded on the first seven days of the month, including the seventh. Sort them by their `acquisition price` in a descending order. Limit the search to 10 documents."
   ]
  },
  {
   "cell_type": "code",
   "execution_count": 133,
   "metadata": {},
   "outputs": [
    {
     "data": {
      "text/plain": [
       "[{'name': 'Netscape',\n",
       "  'founded_day': 4,\n",
       "  'acquisition': {'price_amount': 4200000000.0}},\n",
       " {'name': 'PayPal',\n",
       "  'founded_day': 1,\n",
       "  'acquisition': {'price_amount': 1500000000}},\n",
       " {'name': 'Zappos',\n",
       "  'founded_day': 1,\n",
       "  'acquisition': {'price_amount': 1200000000}},\n",
       " {'name': 'Alibaba',\n",
       "  'founded_day': 1,\n",
       "  'acquisition': {'price_amount': 1000000000}},\n",
       " {'name': 'Postini',\n",
       "  'founded_day': 2,\n",
       "  'acquisition': {'price_amount': 625000000}},\n",
       " {'name': 'Danger',\n",
       "  'founded_day': 1,\n",
       "  'acquisition': {'price_amount': 500000000}},\n",
       " {'name': 'Clearwell Systems',\n",
       "  'founded_day': 6,\n",
       "  'acquisition': {'price_amount': 410000000}},\n",
       " {'name': 'PrimeSense',\n",
       "  'founded_day': 1,\n",
       "  'acquisition': {'price_amount': 345000000}},\n",
       " {'name': 'Amobee',\n",
       "  'founded_day': 1,\n",
       "  'acquisition': {'price_amount': 321000000}},\n",
       " {'name': 'Vitrue',\n",
       "  'founded_day': 1,\n",
       "  'acquisition': {'price_amount': 300000000}}]"
      ]
     },
     "execution_count": 133,
     "metadata": {},
     "output_type": "execute_result"
    }
   ],
   "source": [
    "filters1 = {\"founded_day\": {\"$lte\": 7}}\n",
    "projection = {\"_id\":0, \"name\":1, \"founded_day\": 1, \"acquisition.price_amount\":1}\n",
    "list(c.find(filters1, projection).sort(\"acquisition.price_amount\", -1).limit(10))"
   ]
  },
  {
   "cell_type": "markdown",
   "metadata": {},
   "source": [
    "### 16. All the companies on the 'web' `category` that have more than 4000 employees. Sort them by the amount of employees in ascending order."
   ]
  },
  {
   "cell_type": "code",
   "execution_count": 124,
   "metadata": {},
   "outputs": [
    {
     "data": {
      "text/plain": [
       "[{'name': 'Expedia', 'category_code': 'web'},\n",
       " {'name': 'AOL', 'category_code': 'web'},\n",
       " {'name': 'Webkinz', 'category_code': 'web'},\n",
       " {'name': 'Rakuten', 'category_code': 'web'},\n",
       " {'name': 'Los Angeles Times Media Group', 'category_code': 'web'},\n",
       " {'name': 'Groupon', 'category_code': 'web'},\n",
       " {'name': 'Yahoo!', 'category_code': 'web'},\n",
       " {'name': 'eBay', 'category_code': 'web'},\n",
       " {'name': 'Experian', 'category_code': 'web'}]"
      ]
     },
     "execution_count": 124,
     "metadata": {},
     "output_type": "execute_result"
    }
   ],
   "source": [
    "filters1 = {\"category_code\": \"web\", \"number_of_employees\": {\"$gt\": 4000}}\n",
    "projection = {\"_id\":0, \"name\":1, \"category_code\": 1}\n",
    "list(c.find(filters1, projection).sort(\"number_of_employees\", 1))"
   ]
  },
  {
   "cell_type": "markdown",
   "metadata": {},
   "source": [
    "### 17. All the companies whose acquisition amount is more than 10.000.000, and currency is 'EUR'."
   ]
  },
  {
   "cell_type": "code",
   "execution_count": 136,
   "metadata": {},
   "outputs": [
    {
     "data": {
      "text/plain": [
       "[{'name': 'ZYB', 'acquisition': {'price_amount': 31500000}},\n",
       " {'name': 'Apertio', 'acquisition': {'price_amount': 140000000}},\n",
       " {'name': 'Greenfield Online', 'acquisition': {'price_amount': 40000000}},\n",
       " {'name': 'Webedia', 'acquisition': {'price_amount': 70000000}},\n",
       " {'name': 'Wayfinder', 'acquisition': {'price_amount': 24000000}},\n",
       " {'name': 'Tuenti Technologies', 'acquisition': {'price_amount': 70000000}},\n",
       " {'name': 'BioMed Central', 'acquisition': {'price_amount': 43400000}}]"
      ]
     },
     "execution_count": 136,
     "metadata": {},
     "output_type": "execute_result"
    }
   ],
   "source": [
    "filters1 = {\"acquisition.price_amount\": {\"$gt\": 10000000}, \"acquisition.price_currency_code\": \"EUR\"}\n",
    "projection = {\"_id\":0, \"name\":1, \"acquisition.price_amount\":1}\n",
    "list(c.find(filters1, projection))"
   ]
  },
  {
   "cell_type": "markdown",
   "metadata": {},
   "source": [
    "### 18. All the companies that have been acquired on the first trimester of the year. Limit the search to 10 companies, and retrieve only their `name` and `acquisition` fields."
   ]
  },
  {
   "cell_type": "code",
   "execution_count": 139,
   "metadata": {},
   "outputs": [
    {
     "data": {
      "text/plain": [
       "[{'name': 'Ticketmaster', 'acquisition': {'acquired_month': 1}},\n",
       " {'name': 'BillMonk', 'acquisition': {'acquired_month': 1}},\n",
       " {'name': 'Filtrbox', 'acquisition': {'acquired_month': 1}},\n",
       " {'name': 'Six Apart', 'acquisition': {'acquired_month': 1}},\n",
       " {'name': 'Livestream', 'acquisition': {'acquired_month': 1}},\n",
       " {'name': 'Quattro Wireless', 'acquisition': {'acquired_month': 1}},\n",
       " {'name': 'Buzzmetrics', 'acquisition': {'acquired_month': 1}},\n",
       " {'name': 'Flock', 'acquisition': {'acquired_month': 1}},\n",
       " {'name': 'Zenfolio', 'acquisition': {'acquired_month': 1}},\n",
       " {'name': 'Kyte', 'acquisition': {'acquired_month': 1}}]"
      ]
     },
     "execution_count": 139,
     "metadata": {},
     "output_type": "execute_result"
    }
   ],
   "source": [
    "filters1 = {\"acquisition.acquired_month\": {\"$lte\": 3}}\n",
    "projection = {\"_id\":0, \"name\":1, \"acquisition.acquired_month\":1}\n",
    "list(c.find(filters1, projection).sort(\"acquisition.acquired_month\", 1).limit(10))"
   ]
  },
  {
   "cell_type": "markdown",
   "metadata": {},
   "source": [
    "# Bonus\n",
    "### 19. All the companies that have been founded between 2000 and 2010, but have not been acquired before 2011."
   ]
  },
  {
   "cell_type": "code",
   "execution_count": null,
   "metadata": {},
   "outputs": [],
   "source": [
    "# Your Code"
   ]
  },
  {
   "cell_type": "markdown",
   "metadata": {},
   "source": [
    "### 20. All the companies that have been 'deadpooled' after the third year."
   ]
  },
  {
   "cell_type": "code",
   "execution_count": null,
   "metadata": {},
   "outputs": [],
   "source": [
    "# Your Code"
   ]
  },
  {
   "cell_type": "markdown",
   "metadata": {},
   "source": [
    "**⚠️ Did you do this?**\n",
    "\n",
    "```python\n",
    "list(collection.find(query))[:5] #or a reasonably low number\n",
    "```"
   ]
  }
 ],
 "metadata": {
  "kernelspec": {
   "display_name": "Python 3 (ipykernel)",
   "language": "python",
   "name": "python3"
  },
  "language_info": {
   "codemirror_mode": {
    "name": "ipython",
    "version": 3
   },
   "file_extension": ".py",
   "mimetype": "text/x-python",
   "name": "python",
   "nbconvert_exporter": "python",
   "pygments_lexer": "ipython3",
   "version": "3.11.5"
  },
  "toc": {
   "base_numbering": 1,
   "nav_menu": {},
   "number_sections": true,
   "sideBar": true,
   "skip_h1_title": false,
   "title_cell": "Table of Contents",
   "title_sidebar": "Contents",
   "toc_cell": false,
   "toc_position": {},
   "toc_section_display": true,
   "toc_window_display": true
  }
 },
 "nbformat": 4,
 "nbformat_minor": 2
}
